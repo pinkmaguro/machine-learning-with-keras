{
 "cells": [
  {
   "cell_type": "code",
   "execution_count": 1,
   "metadata": {},
   "outputs": [],
   "source": [
    "import numpy as np\n",
    "from keras import datasets\n",
    "from keras.utils import np_utils"
   ]
  },
  {
   "cell_type": "markdown",
   "metadata": {},
   "source": [
    "이미지 분류에 대한 딥러닝에 대한 노트북입니다.\n",
    "\n",
    "데이터를 먼저 살펴보고 로딩하겠습니다."
   ]
  },
  {
   "cell_type": "markdown",
   "metadata": {},
   "source": [
    "![cifar10](img/cifar-10_labels.png)"
   ]
  },
  {
   "cell_type": "code",
   "execution_count": 2,
   "metadata": {},
   "outputs": [
    {
     "name": "stdout",
     "output_type": "stream",
     "text": [
      "Downloading data from https://www.cs.toronto.edu/~kriz/cifar-10-python.tar.gz\n",
      "170500096/170498071 [==============================] - 70s 0us/step\n"
     ]
    }
   ],
   "source": [
    "(train_X, train_Y), (test_X, test_Y) = datasets.cifar10.load_data()\n",
    "    "
   ]
  },
  {
   "cell_type": "code",
   "execution_count": 5,
   "metadata": {},
   "outputs": [],
   "source": [
    "def show_data(X, Y):\n",
    "    print('Shape of X : {}'.format(X.shape))\n",
    "    print('Shape of Y: {}'.format(Y.shape))\n",
    "    print(X[0])\n",
    "    print(Y[0])"
   ]
  },
  {
   "cell_type": "code",
   "execution_count": 6,
   "metadata": {},
   "outputs": [
    {
     "name": "stdout",
     "output_type": "stream",
     "text": [
      "Shape of X : (50000, 32, 32, 3)\n",
      "Shape of Y: (50000, 1)\n",
      "[[[ 59  62  63]\n",
      "  [ 43  46  45]\n",
      "  [ 50  48  43]\n",
      "  ...\n",
      "  [158 132 108]\n",
      "  [152 125 102]\n",
      "  [148 124 103]]\n",
      "\n",
      " [[ 16  20  20]\n",
      "  [  0   0   0]\n",
      "  [ 18   8   0]\n",
      "  ...\n",
      "  [123  88  55]\n",
      "  [119  83  50]\n",
      "  [122  87  57]]\n",
      "\n",
      " [[ 25  24  21]\n",
      "  [ 16   7   0]\n",
      "  [ 49  27   8]\n",
      "  ...\n",
      "  [118  84  50]\n",
      "  [120  84  50]\n",
      "  [109  73  42]]\n",
      "\n",
      " ...\n",
      "\n",
      " [[208 170  96]\n",
      "  [201 153  34]\n",
      "  [198 161  26]\n",
      "  ...\n",
      "  [160 133  70]\n",
      "  [ 56  31   7]\n",
      "  [ 53  34  20]]\n",
      "\n",
      " [[180 139  96]\n",
      "  [173 123  42]\n",
      "  [186 144  30]\n",
      "  ...\n",
      "  [184 148  94]\n",
      "  [ 97  62  34]\n",
      "  [ 83  53  34]]\n",
      "\n",
      " [[177 144 116]\n",
      "  [168 129  94]\n",
      "  [179 142  87]\n",
      "  ...\n",
      "  [216 184 140]\n",
      "  [151 118  84]\n",
      "  [123  92  72]]]\n",
      "[6]\n"
     ]
    }
   ],
   "source": [
    "show_data(train_X, train_Y)"
   ]
  },
  {
   "cell_type": "markdown",
   "metadata": {},
   "source": [
    "데이터를 살펴보니 5만개의 데이터가 있고 32 픽셀 x 32 픽셀 크기의 이미지 데이터이고 RGB 각각의 명암이 0 에서 255 사이의 정수로 표현된 데이터 같습니다. 타겟 데이터(Y) 는 하나의 정수값을 같는 것으로 보아 이미지 종류의 레이블을 저장하고 있는 데이터 인 것 같습니다.\n",
    "\n",
    "Y 가 몇 개의 분류 값을 갖는지 알아보겠습니다."
   ]
  },
  {
   "cell_type": "code",
   "execution_count": 9,
   "metadata": {},
   "outputs": [
    {
     "data": {
      "text/plain": [
       "array([0, 1, 2, 3, 4, 5, 6, 7, 8, 9], dtype=uint8)"
      ]
     },
     "execution_count": 9,
     "metadata": {},
     "output_type": "execute_result"
    }
   ],
   "source": [
    "import numpy as np\n",
    "\n",
    "np.unique(train_Y)"
   ]
  },
  {
   "cell_type": "markdown",
   "metadata": {},
   "source": [
    "0 부터 9 까지의 10개의 레이블을 갖고 있는 것을 확인했습니다.\n",
    "\n",
    "데이터에 대해서 알아봤으니 다음 과정을 함수로 정의하겠습니다.\n",
    "\n",
    "- 데이터 로딩(load_data)\n",
    "- 레이블 데이터를 원핫인코딩하기(to_categorical)\n",
    "- 입력 데이터를 1차원 배열로 만들기(reshap)\n",
    "- 입력 데이터를 정규화하기(MinMaxScaler, StandardScalder)"
   ]
  },
  {
   "cell_type": "code",
   "execution_count": 24,
   "metadata": {},
   "outputs": [],
   "source": [
    "def prepare_classification_data(train_data, test_data):\n",
    "    train_X, train_Y = train_data\n",
    "    test_X,  test_Y = test_data\n",
    "    # One-hot encoding\n",
    "    train_Y = np_utils.to_categorical(train_Y)\n",
    "    test_Y  = np_utils.to_categorical(test_Y)\n",
    "    \n",
    "    # reshaping input data\n",
    "    m, W, H, C = train_X.shape\n",
    "    train_X = train_X.reshape(-1, W*H*C)\n",
    "    test_X  = test_X.reshape(-1, W*H*C)\n",
    "    \n",
    "    # Normalization\n",
    "    from sklearn.preprocessing import StandardScaler\n",
    "    scaler = StandardScaler().fit(test_X)\n",
    "    train_X = scaler.transform(train_X)\n",
    "    test_X  = scaler.transform(test_X)\n",
    "    \n",
    "    return (train_X, train_Y), (test_X, test_Y)"
   ]
  },
  {
   "cell_type": "code",
   "execution_count": 26,
   "metadata": {
    "scrolled": true
   },
   "outputs": [
    {
     "name": "stderr",
     "output_type": "stream",
     "text": [
      "/home/rk/dev/env/ml/lib/python3.5/site-packages/sklearn/utils/validation.py:475: DataConversionWarning: Data with input dtype uint8 was converted to float64 by StandardScaler.\n",
      "  warnings.warn(msg, DataConversionWarning)\n"
     ]
    }
   ],
   "source": [
    "train_data, test_data = datasets.cifar10.load_data()\n",
    "\n",
    "(train_X, train_Y), (test_X, test_Y) = prepare_classification_data(train_data, test_data)"
   ]
  },
  {
   "cell_type": "markdown",
   "metadata": {},
   "source": [
    "첫 번째 데이터를 살펴보고 원하는대로 전처리가 되었는지 확인해봅니다."
   ]
  },
  {
   "cell_type": "code",
   "execution_count": 30,
   "metadata": {
    "scrolled": true
   },
   "outputs": [
    {
     "data": {
      "text/plain": [
       "(array([-0.97553309, -1.01870231, -0.87145718, ..., -0.05492909,\n",
       "        -0.5482677 , -0.6598775 ]),\n",
       " array([0., 0., 0., 0., 0., 0., 1., 0., 0., 0.]))"
      ]
     },
     "execution_count": 30,
     "metadata": {},
     "output_type": "execute_result"
    }
   ],
   "source": [
    "train_X[0], train_Y[0]"
   ]
  },
  {
   "cell_type": "markdown",
   "metadata": {},
   "source": [
    "## 신경망 클래스 만들기\n",
    "\n",
    "앞선 두 노트북에서 신경망 모델을 만드는 과정이 반복됩니다.  클래스로 만들어서 사용하는 것이 더 편해보입니다."
   ]
  },
  {
   "cell_type": "code",
   "execution_count": 31,
   "metadata": {},
   "outputs": [],
   "source": [
    "from keras.models import Sequential\n",
    "from keras.layers import Dense"
   ]
  },
  {
   "cell_type": "code",
   "execution_count": 49,
   "metadata": {},
   "outputs": [],
   "source": [
    "class DNN(Sequential):\n",
    "    def __init__(self, input_size, output_size, *num_hidden_nodes ):\n",
    "        super().__init__()\n",
    "        num_nodes = (*num_hidden_nodes, output_size)\n",
    "        \n",
    "        for idx, num_node in enumerate(num_nodes):\n",
    "            activation = 'relu'\n",
    "            if idx == 0:\n",
    "                self.add(Dense(num_node, activation=activation, input_shape=(input_size,)))\n",
    "            else:\n",
    "                if idx == len(num_nodes) - 1:\n",
    "                    activation = 'softmax'\n",
    "                self.add(Dense(output_size, activation=activation))\n",
    "            \n",
    "        self.compile(loss='categorical_crossentropy',\n",
    "                           optimizer='adam',\n",
    "                           metrics=['accuracy'])\n",
    "                "
   ]
  },
  {
   "cell_type": "markdown",
   "metadata": {},
   "source": [
    "## 신경망 훈련시키기"
   ]
  },
  {
   "cell_type": "code",
   "execution_count": 50,
   "metadata": {},
   "outputs": [],
   "source": [
    "\n"
   ]
  },
  {
   "cell_type": "code",
   "execution_count": 56,
   "metadata": {},
   "outputs": [
    {
     "name": "stdout",
     "output_type": "stream",
     "text": [
      "Train on 40000 samples, validate on 10000 samples\n",
      "Epoch 1/10\n",
      "40000/40000 [==============================] - 25s 616us/step - loss: 2.1017 - acc: 0.3760 - val_loss: 1.7282 - val_acc: 0.4277\n",
      "Epoch 2/10\n",
      "40000/40000 [==============================] - 24s 603us/step - loss: 1.5505 - acc: 0.4821 - val_loss: 1.6533 - val_acc: 0.4488\n",
      "Epoch 3/10\n",
      "40000/40000 [==============================] - 24s 608us/step - loss: 1.3793 - acc: 0.5268 - val_loss: 1.5443 - val_acc: 0.4840\n",
      "Epoch 4/10\n",
      "40000/40000 [==============================] - 24s 605us/step - loss: 1.2952 - acc: 0.5534 - val_loss: 1.5113 - val_acc: 0.4932\n",
      "Epoch 5/10\n",
      "40000/40000 [==============================] - 24s 606us/step - loss: 1.2462 - acc: 0.5682 - val_loss: 1.5426 - val_acc: 0.4923\n",
      "Epoch 6/10\n",
      "40000/40000 [==============================] - 24s 594us/step - loss: 1.1897 - acc: 0.5901 - val_loss: 1.5150 - val_acc: 0.4980\n",
      "Epoch 7/10\n",
      "40000/40000 [==============================] - 25s 628us/step - loss: 1.1550 - acc: 0.6012 - val_loss: 1.5371 - val_acc: 0.4972\n",
      "Epoch 8/10\n",
      "40000/40000 [==============================] - 25s 626us/step - loss: 1.1058 - acc: 0.6218 - val_loss: 1.5418 - val_acc: 0.4995\n",
      "Epoch 9/10\n",
      "40000/40000 [==============================] - 25s 621us/step - loss: 1.0717 - acc: 0.6310 - val_loss: 1.6151 - val_acc: 0.4863\n",
      "Epoch 10/10\n",
      "40000/40000 [==============================] - 25s 619us/step - loss: 1.0223 - acc: 0.6462 - val_loss: 1.6300 - val_acc: 0.4936\n"
     ]
    }
   ],
   "source": [
    "model2 = DNN(train_X.shape[1], train_Y.shape[1], 256)\n",
    "\n",
    "history2 = model2.fit(train_X, train_Y, epochs=10, batch_size=100, validation_split=0.2)"
   ]
  },
  {
   "cell_type": "markdown",
   "metadata": {},
   "source": [
    "테스트 데이터에 대해서 정확도 0.49 가 나왔습니다.  히든레이어의 크기를  늘려보겠습니다.\n",
    "\n"
   ]
  },
  {
   "cell_type": "code",
   "execution_count": 58,
   "metadata": {
    "scrolled": false
   },
   "outputs": [
    {
     "name": "stdout",
     "output_type": "stream",
     "text": [
      "Train on 40000 samples, validate on 10000 samples\n",
      "Epoch 1/10\n",
      "40000/40000 [==============================] - 42s 1ms/step - loss: 2.3148 - acc: 0.3760 - val_loss: 1.7687 - val_acc: 0.4249\n",
      "Epoch 2/10\n",
      "40000/40000 [==============================] - 42s 1ms/step - loss: 1.5598 - acc: 0.4786 - val_loss: 1.5862 - val_acc: 0.4637\n",
      "Epoch 3/10\n",
      "40000/40000 [==============================] - 43s 1ms/step - loss: 1.3583 - acc: 0.5312 - val_loss: 1.5577 - val_acc: 0.4725\n",
      "Epoch 4/10\n",
      "40000/40000 [==============================] - 43s 1ms/step - loss: 1.2974 - acc: 0.5550 - val_loss: 1.5392 - val_acc: 0.4833\n",
      "Epoch 5/10\n",
      "40000/40000 [==============================] - 43s 1ms/step - loss: 1.2460 - acc: 0.5724 - val_loss: 1.5548 - val_acc: 0.4839\n",
      "Epoch 6/10\n",
      "40000/40000 [==============================] - 43s 1ms/step - loss: 1.2147 - acc: 0.5842 - val_loss: 1.6236 - val_acc: 0.4840\n",
      "Epoch 7/10\n",
      "40000/40000 [==============================] - 42s 1ms/step - loss: 1.1649 - acc: 0.6015 - val_loss: 1.6464 - val_acc: 0.4806\n",
      "Epoch 8/10\n",
      "40000/40000 [==============================] - 42s 1ms/step - loss: 1.1406 - acc: 0.6139 - val_loss: 1.6807 - val_acc: 0.4888\n",
      "Epoch 9/10\n",
      "40000/40000 [==============================] - 43s 1ms/step - loss: 1.0804 - acc: 0.6330 - val_loss: 1.7393 - val_acc: 0.4813\n",
      "Epoch 10/10\n",
      "40000/40000 [==============================] - 43s 1ms/step - loss: 1.0338 - acc: 0.6499 - val_loss: 1.6947 - val_acc: 0.4959\n"
     ]
    }
   ],
   "source": [
    "model = DNN(train_X.shape[1], train_Y.shape[1], 512)\n",
    "history = model.fit(train_X, train_Y, epochs=10, batch_size=100, validation_split=0.2)"
   ]
  },
  {
   "cell_type": "markdown",
   "metadata": {},
   "source": [
    "단일 하든 레이어의 크기를 늘리는 것은 의미가 없다고 판단할 수 있겠습니다.\n",
    "\n",
    "정확도 0.49 보다 더 높일 수 있는 신경망을 구성해보면 어떨까요?"
   ]
  },
  {
   "cell_type": "code",
   "execution_count": 59,
   "metadata": {},
   "outputs": [
    {
     "name": "stdout",
     "output_type": "stream",
     "text": [
      "10000/10000 [==============================] - 4s 448us/step\n"
     ]
    },
    {
     "data": {
      "text/plain": [
       "[1.665752331161499, 0.4887]"
      ]
     },
     "execution_count": 59,
     "metadata": {},
     "output_type": "execute_result"
    }
   ],
   "source": [
    "model.evaluate(test_X, test_Y)"
   ]
  },
  {
   "cell_type": "code",
   "execution_count": 63,
   "metadata": {},
   "outputs": [],
   "source": [
    "predicted_Y = model.predict_classes(test_X)"
   ]
  },
  {
   "cell_type": "code",
   "execution_count": 65,
   "metadata": {},
   "outputs": [],
   "source": [
    "target_Y = np.argmax(test_Y, axis=1)"
   ]
  },
  {
   "cell_type": "code",
   "execution_count": 67,
   "metadata": {},
   "outputs": [
    {
     "data": {
      "text/plain": [
       "array([ True, False, False,  True, False,  True, False,  True,  True,\n",
       "        True])"
      ]
     },
     "execution_count": 67,
     "metadata": {},
     "output_type": "execute_result"
    }
   ],
   "source": [
    "match = predicted_Y == target_Y\n",
    "match[:10]"
   ]
  },
  {
   "cell_type": "code",
   "execution_count": 69,
   "metadata": {},
   "outputs": [
    {
     "data": {
      "text/plain": [
       "0.4887"
      ]
     },
     "execution_count": 69,
     "metadata": {},
     "output_type": "execute_result"
    }
   ],
   "source": [
    "sum(match) / len(match)"
   ]
  },
  {
   "cell_type": "code",
   "execution_count": 72,
   "metadata": {},
   "outputs": [],
   "source": [
    "wrong_label = np.where(match==False)"
   ]
  },
  {
   "cell_type": "code",
   "execution_count": 73,
   "metadata": {},
   "outputs": [],
   "source": [
    "import matplotlib.pyplot as plt"
   ]
  },
  {
   "cell_type": "code",
   "execution_count": 74,
   "metadata": {},
   "outputs": [
    {
     "ename": "ValueError",
     "evalue": "cannot reshape array of size 15707136 into shape (32,32,3)",
     "output_type": "error",
     "traceback": [
      "\u001b[0;31m---------------------------------------------------------------------------\u001b[0m",
      "\u001b[0;31mValueError\u001b[0m                                Traceback (most recent call last)",
      "\u001b[0;32m<ipython-input-74-240d8cecc22f>\u001b[0m in \u001b[0;36m<module>\u001b[0;34m()\u001b[0m\n\u001b[0;32m----> 1\u001b[0;31m \u001b[0mplt\u001b[0m\u001b[0;34m.\u001b[0m\u001b[0mshow\u001b[0m\u001b[0;34m(\u001b[0m\u001b[0mtest_X\u001b[0m\u001b[0;34m[\u001b[0m\u001b[0mwrong_label\u001b[0m\u001b[0;34m[\u001b[0m\u001b[0;36m0\u001b[0m\u001b[0;34m]\u001b[0m\u001b[0;34m]\u001b[0m\u001b[0;34m.\u001b[0m\u001b[0mreshape\u001b[0m\u001b[0;34m(\u001b[0m\u001b[0;36m32\u001b[0m\u001b[0;34m,\u001b[0m \u001b[0;36m32\u001b[0m\u001b[0;34m,\u001b[0m \u001b[0;36m3\u001b[0m\u001b[0;34m)\u001b[0m\u001b[0;34m)\u001b[0m\u001b[0;34m\u001b[0m\u001b[0m\n\u001b[0m",
      "\u001b[0;31mValueError\u001b[0m: cannot reshape array of size 15707136 into shape (32,32,3)"
     ]
    }
   ],
   "source": [
    "plt.show(test_X[wrong_label[0]].reshape(32, 32, 3))"
   ]
  },
  {
   "cell_type": "code",
   "execution_count": 76,
   "metadata": {},
   "outputs": [
    {
     "data": {
      "text/plain": [
       "3072"
      ]
     },
     "execution_count": 76,
     "metadata": {},
     "output_type": "execute_result"
    }
   ],
   "source": [
    "len(test_X[1])"
   ]
  },
  {
   "cell_type": "code",
   "execution_count": 78,
   "metadata": {},
   "outputs": [
    {
     "data": {
      "text/plain": [
       "array([[1.42459082, 1.36137256, 1.27505056],\n",
       "       [1.39523197, 1.33108784, 1.24736035],\n",
       "       [1.39524328, 1.33092908, 1.24754579],\n",
       "       [1.3919652 , 1.32773802, 1.24357264],\n",
       "       [1.38906802, 1.32505174, 1.2418087 ],\n",
       "       [1.38275937, 1.31857344, 1.23759365],\n",
       "       [1.37842177, 1.31655606, 1.23560444],\n",
       "       [1.36875849, 1.30971712, 1.23025463],\n",
       "       [1.36312671, 1.30590832, 1.22727466],\n",
       "       [1.35619457, 1.29946908, 1.22227862],\n",
       "       [1.36351431, 1.30818199, 1.23107345],\n",
       "       [1.35833969, 1.30512483, 1.22989358],\n",
       "       [1.35864695, 1.30641856, 1.23166239],\n",
       "       [1.36180537, 1.30984913, 1.23426878],\n",
       "       [1.36007   , 1.30831252, 1.23219871],\n",
       "       [1.36026142, 1.2946724 , 1.23248467],\n",
       "       [1.3594431 , 1.27918208, 1.23033379],\n",
       "       [1.34353149, 1.27751965, 1.22925864],\n",
       "       [1.33043844, 1.30678935, 1.22939011],\n",
       "       [1.32129821, 1.31156571, 1.22034856],\n",
       "       [1.35314984, 1.29940436, 1.2475983 ],\n",
       "       [1.36182545, 1.29078344, 1.25235357],\n",
       "       [1.36472333, 1.30559855, 1.22762339],\n",
       "       [1.3815988 , 1.32289405, 1.20464369],\n",
       "       [1.37418907, 1.32694267, 1.21948192],\n",
       "       [1.39729295, 1.33224328, 1.24590816],\n",
       "       [1.39248234, 1.32578982, 1.23872667],\n",
       "       [1.39797876, 1.33031136, 1.24310867],\n",
       "       [1.40130789, 1.33375678, 1.24588834],\n",
       "       [1.4223361 , 1.35381973, 1.26270249],\n",
       "       [1.43065394, 1.36047729, 1.26883491],\n",
       "       [1.40939802, 1.33946755, 1.25063227]])"
      ]
     },
     "execution_count": 78,
     "metadata": {},
     "output_type": "execute_result"
    }
   ],
   "source": [
    "test_X[1].reshape(32,32,3)[0]"
   ]
  },
  {
   "cell_type": "code",
   "execution_count": 80,
   "metadata": {},
   "outputs": [
    {
     "data": {
      "text/plain": [
       "(32, 32)"
      ]
     },
     "execution_count": 80,
     "metadata": {},
     "output_type": "execute_result"
    }
   ],
   "source": [
    "test_X[1].reshape(32,32,3).sum(axis=2).shape"
   ]
  },
  {
   "cell_type": "code",
   "execution_count": 81,
   "metadata": {},
   "outputs": [
    {
     "data": {
      "image/png": "[encoded data removed]",
      "text/plain": [
       "<matplotlib.figure.Figure at 0x7fe1bb1a7ac8>"
      ]
     },
     "metadata": {},
     "output_type": "display_data"
    }
   ],
   "source": [
    "plt.imshow(test_X[1].reshape(32,32,3).sum(axis=2))\n",
    "plt.show()"
   ]
  },
  {
   "cell_type": "code",
   "execution_count": 83,
   "metadata": {},
   "outputs": [
    {
     "data": {
      "text/plain": [
       "array([0., 0., 0., 0., 0., 0., 0., 0., 1., 0.])"
      ]
     },
     "execution_count": 83,
     "metadata": {},
     "output_type": "execute_result"
    }
   ],
   "source": [
    "test_Y[1]"
   ]
  },
  {
   "cell_type": "code",
   "execution_count": 109,
   "metadata": {},
   "outputs": [
    {
     "data": {
      "text/plain": [
       "1"
      ]
     },
     "execution_count": 109,
     "metadata": {},
     "output_type": "execute_result"
    }
   ],
   "source": [
    "predicted_Y[1]"
   ]
  },
  {
   "cell_type": "code",
   "execution_count": 85,
   "metadata": {},
   "outputs": [],
   "source": [
    "from collections import defaultdict"
   ]
  },
  {
   "cell_type": "code",
   "execution_count": 99,
   "metadata": {},
   "outputs": [],
   "source": [
    "def classify_by_label(target_Y, predicted_Y):\n",
    "    n_classes = len(np.unique(target_Y))\n",
    "    index_for_classes = [defaultdict(list) for _ in range(n_classes)]\n",
    "    for idx, (target_y, predicted_y) in enumerate(zip(target_Y, predicted_Y)):\n",
    "        if target_y == predicted_y:\n",
    "            key = 'correct'\n",
    "        else:\n",
    "            key = 'wrong'\n",
    "        index_for_classes[target_y][key].append(idx)\n",
    "    return index_for_classes\n",
    "    "
   ]
  },
  {
   "cell_type": "code",
   "execution_count": 100,
   "metadata": {},
   "outputs": [],
   "source": [
    "index_for_classes = classify_by_label(target_Y, predicted_Y)\n"
   ]
  },
  {
   "cell_type": "code",
   "execution_count": 106,
   "metadata": {},
   "outputs": [
    {
     "data": {
      "text/plain": [
       "[15, 18, 55, 72, 73, 88, 92, 185, 196, 214]"
      ]
     },
     "execution_count": 106,
     "metadata": {},
     "output_type": "execute_result"
    }
   ],
   "source": [
    "index_for_classes[8]['correct'][:10]"
   ]
  },
  {
   "cell_type": "code",
   "execution_count": 107,
   "metadata": {},
   "outputs": [],
   "source": [
    "def show_image(index):\n",
    "    plt.imshow(test_X[index].reshape(32,32,3).sum(axis=2))\n",
    "    plt.show()"
   ]
  },
  {
   "cell_type": "code",
   "execution_count": 110,
   "metadata": {},
   "outputs": [
    {
     "data": {
      "image/png": "[encoded data removed]",
      "text/plain": [
       "<matplotlib.figure.Figure at 0x7fe1ba957400>"
      ]
     },
     "metadata": {},
     "output_type": "display_data"
    }
   ],
   "source": [
    "show_image(15)"
   ]
  },
  {
   "cell_type": "code",
   "execution_count": 111,
   "metadata": {},
   "outputs": [
    {
     "data": {
      "text/plain": [
       "[9, 37, 66, 81, 82, 104, 105, 114, 131, 134]"
      ]
     },
     "execution_count": 111,
     "metadata": {},
     "output_type": "execute_result"
    }
   ],
   "source": [
    "index_for_classes[1]['correct'][:10]"
   ]
  },
  {
   "cell_type": "code",
   "execution_count": 112,
   "metadata": {},
   "outputs": [
    {
     "data": {
      "image/png": "[encoded data removed]",
      "text/plain": [
       "<matplotlib.figure.Figure at 0x7fe1ba1016a0>"
      ]
     },
     "metadata": {},
     "output_type": "display_data"
    }
   ],
   "source": [
    "show_image(9)"
   ]
  },
  {
   "cell_type": "markdown",
   "metadata": {},
   "source": [
    "테스트 데이터셋의 인덱스 1인 이미지는 배로 분류가 되었어야 했는데 자동자로 분류가된 것 같습니다."
   ]
  },
  {
   "cell_type": "code",
   "execution_count": null,
   "metadata": {},
   "outputs": [],
   "source": []
  }
 ],
 "metadata": {
  "kernelspec": {
   "display_name": "Python 3",
   "language": "python",
   "name": "python3"
  },
  "language_info": {
   "codemirror_mode": {
    "name": "ipython",
    "version": 3
   },
   "file_extension": ".py",
   "mimetype": "text/x-python",
   "name": "python",
   "nbconvert_exporter": "python",
   "pygments_lexer": "ipython3",
   "version": "3.5.2"
  }
 },
 "nbformat": 4,
 "nbformat_minor": 2
}
