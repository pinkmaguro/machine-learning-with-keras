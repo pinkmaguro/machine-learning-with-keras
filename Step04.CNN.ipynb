{
 "cells": [
  {
   "cell_type": "markdown",
   "metadata": {},
   "source": [
    "CNN 이 Convolutional Neural Network 이고 번역으로는 합성곱 신경망이라고 쓰는데 이름이 참 어렵지 않습니까?\n",
    "\n",
    "이 이름은 CNN 의 원리를 이해하고 봐야지 납득이 가는 것 같습니다.\n",
    "\n",
    "원본 sequential 데이터에 어떤 숫자들을 곱해서 더하는 과정을 convolution 이라고 합니다.  Numpy 에 numpy.convolve 라는 함수가 있는데 같은 동작을 합니다. \n",
    "\n",
    "https://docs.scipy.org/doc/numpy-1.13.0/reference/generated/numpy.convolve.html"
   ]
  },
  {
   "cell_type": "markdown",
   "metadata": {},
   "source": [
    "일반 신경망과는 다르게 CNN 은 입력 데이터의 내부 값들이 시퀀스에 따른 어떤 관계를 갖고 있을 때 더 뛰어난 성능을 발휘합니다.\n",
    "\n",
    "2차원 그림 데이터의 경우에는 어떤 물체, 예를 들면 사과가 있을 때 어느 부분에 빨간색 점 데이터들이 군집해 있을 것이고 1차원 배열로 꾸겨넣어도 빨간 점 부분은 1차원 배열에서도 서로 관계를 가질 것 입니다.\n",
    "\n"
   ]
  },
  {
   "cell_type": "markdown",
   "metadata": {},
   "source": [
    "이번에도 먼저 MNIST 데이터를 사용해서 CNN 구성해보고 이전에 만들었던 신경망 모델의 결과와 비교를 해보겠습니다."
   ]
  },
  {
   "cell_type": "code",
   "execution_count": 2,
   "metadata": {},
   "outputs": [],
   "source": [
    "import keras\n",
    "from keras import models, layers\n",
    "from keras import backend\n",
    "from keras import datasets"
   ]
  },
  {
   "cell_type": "code",
   "execution_count": 3,
   "metadata": {},
   "outputs": [],
   "source": [
    "class CNN(models.Sequential):\n",
    "    def __init__(self, input_shape, num_classes):\n",
    "        super().__init__()\n",
    "        \n",
    "        self.add(layers.Conv2D(32, kernel_size=(3, 3), activation='relu',\n",
    "                 input_shape=input_shape))\n",
    "        self.add(layers.Conv2D(64, kernel_size=(3, 3), activation='relu'))\n",
    "        self.add(layers.MaxPooling2D(pool_size=(2,2)))\n",
    "        self.add(layers.Dropout(0.25))\n",
    "        self.add(layers.Flatten())\n",
    "        self.add(layers.Dense(128, activation='relu'))\n",
    "        self.add(layers.Dropout(0.50))\n",
    "        self.add(layers.Dense(num_classes, activation='softmax'))\n",
    "        \n",
    "        self.comile(loss=keras.losses.categorical_crossentropy,  # loss='categorical_crossentropy'\n",
    "                    optimizer='rmsprop',\n",
    "                    metrics=['accuracy']) \n",
    "\n",
    "        "
   ]
  },
  {
   "cell_type": "code",
   "execution_count": null,
   "metadata": {},
   "outputs": [],
   "source": []
  }
 ],
 "metadata": {
  "kernelspec": {
   "display_name": "Python 3",
   "language": "python",
   "name": "python3"
  },
  "language_info": {
   "codemirror_mode": {
    "name": "ipython",
    "version": 3
   },
   "file_extension": ".py",
   "mimetype": "text/x-python",
   "name": "python",
   "nbconvert_exporter": "python",
   "pygments_lexer": "ipython3",
   "version": "3.5.2"
  }
 },
 "nbformat": 4,
 "nbformat_minor": 2
}
