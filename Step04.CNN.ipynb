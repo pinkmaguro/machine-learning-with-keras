{
 "cells": [
  {
   "cell_type": "markdown",
   "metadata": {},
   "source": [
    "CNN 이 Convolutional Neural Network 이고 번역으로는 합성곱 신경망이라고 쓰는데 이름이 참 어렵지 않습니까?\n",
    "\n",
    "이 이름은 CNN 의 원리를 이해하고 봐야지 납득이 가는 이름인 것 같습니다.\n",
    "\n",
    "원본 sequential 데이터에 어떤 숫자들을 곱해서 더하는 과정을 convolution 이라고 합니다.  Numpy 에 numpy.convolve 라는 함수가 있는데 같은 동작을 합니다. \n",
    "\n",
    "https://docs.scipy.org/doc/numpy-1.13.0/reference/generated/numpy.convolve.html"
   ]
  },
  {
   "cell_type": "markdown",
   "metadata": {},
   "source": [
    "일반 신경망과는 다르게 CNN 은 입력 데이터의 내부 값들이 시퀀스에 따른 어떤 관계를 갖고 있을 때 더 뛰어난 성능을 발휘합니다.\n",
    "\n",
    "2차원 그림 데이터의 경우에는 어떤 물체, 예를 들면 사과가 있을 때 어느 부분에 빨간색 점 데이터들이 군집해 있을 것이고 1차원 배열로 꾸겨넣어도 빨간 점 부분은 1차원 배열에서도 서로 관계를 가질 것 입니다.\n",
    "\n"
   ]
  },
  {
   "cell_type": "markdown",
   "metadata": {},
   "source": [
    "이번에도 먼저 MNIST 데이터를 사용해서 CNN 구성해보고 이전에 만들었던 신경망 모델의 결과와 비교를 해보겠습니다."
   ]
  },
  {
   "cell_type": "code",
   "execution_count": 1,
   "metadata": {},
   "outputs": [
    {
     "name": "stderr",
     "output_type": "stream",
     "text": [
      "Using TensorFlow backend.\n",
      "/Users/rk/Dev/env/ml/lib/python3.6/importlib/_bootstrap.py:219: RuntimeWarning: compiletime version 3.5 of module 'tensorflow.python.framework.fast_tensor_util' does not match runtime version 3.6\n",
      "  return f(*args, **kwds)\n"
     ]
    }
   ],
   "source": [
    "import keras\n",
    "from keras import models, layers\n",
    "from keras import backend\n",
    "from keras import datasets\n",
    "\n",
    "from sklearn.preprocessing import StandardScaler\n",
    "import matplotlib.pyplot as plt"
   ]
  },
  {
   "cell_type": "code",
   "execution_count": 2,
   "metadata": {},
   "outputs": [],
   "source": [
    "class CNN(models.Sequential):\n",
    "    def __init__(self, input_shape, num_classes):\n",
    "        super().__init__()\n",
    "        \n",
    "        self.add(layers.Conv2D(32, kernel_size=(3, 3), activation='relu',\n",
    "                 input_shape=input_shape))\n",
    "        self.add(layers.Conv2D(64, kernel_size=(3, 3), activation='relu'))\n",
    "        self.add(layers.MaxPooling2D(pool_size=(2,2)))\n",
    "        print(self)\n",
    "        #self.add(layers.Dropout(0.25))\n",
    "        self.add(layers.Flatten())\n",
    "        self.add(layers.Dense(128, activation='relu'))\n",
    "        #self.add(layers.Dropout(0.50))\n",
    "        self.add(layers.Dense(num_classes, activation='softmax'))\n",
    "        \n",
    "        self.comile(loss=keras.losses.categorical_crossentropy,  # loss='categorical_crossentropy'\n",
    "                    optimizer='adam',\n",
    "                    metrics=['accuracy']) \n"
   ]
  },
  {
   "cell_type": "code",
   "execution_count": 3,
   "metadata": {},
   "outputs": [],
   "source": [
    "class CNN(models.Sequential):\n",
    "    def __init__(self, input_shape, num_classes):\n",
    "        super().__init__()\n",
    "\n",
    "        self.add(layers.Conv2D(32, kernel_size=(3, 3),\n",
    "                 activation='relu',\n",
    "                 input_shape=input_shape))\n",
    "        self.add(layers.Conv2D(64, (3, 3), activation='relu'))\n",
    "        self.add(layers.MaxPooling2D(pool_size=(2, 2)))\n",
    "        self.add(layers.Dropout(0.25))\n",
    "        self.add(layers.Flatten())\n",
    "        self.add(layers.Dense(128, activation='relu'))\n",
    "        self.add(layers.Dropout(0.5))\n",
    "        self.add(layers.Dense(num_classes, activation='softmax'))\n",
    "\n",
    "        self.compile(loss=keras.losses.categorical_crossentropy,\n",
    "                      optimizer='rmsprop',\n",
    "metrics=['accuracy'])"
   ]
  },
  {
   "cell_type": "code",
   "execution_count": 5,
   "metadata": {},
   "outputs": [
    {
     "data": {
      "text/plain": [
       "'channels_last'"
      ]
     },
     "execution_count": 5,
     "metadata": {},
     "output_type": "execute_result"
    }
   ],
   "source": [
    "backend.image_data_format()"
   ]
  },
  {
   "cell_type": "code",
   "execution_count": 6,
   "metadata": {},
   "outputs": [],
   "source": [
    "num_classes = 10\n",
    "\n",
    "def prepare_mnist_data_for_CNN():\n",
    "    \n",
    "    (train_X, train_Y), (test_X, test_Y) = datasets.mnist.load_data()\n",
    "    dataset_size, img_rows, img_cols = train_X.shape\n",
    "    print(dataset_size)\n",
    "    \n",
    "    train_X = train_X.reshape(train_X.shape[0], img_rows, img_cols, 1)\n",
    "    test_X = test_X.reshape(test_X.shape[0], img_rows, img_cols, 1)\n",
    "    \n",
    "    train_X = train_X / 255\n",
    "    test_X = test_X / 255\n",
    "    \n",
    "    train_Y = keras.utils.to_categorical(train_Y, num_classes)\n",
    "    test_Y = keras.utils.to_categorical(test_Y, num_classes)\n",
    "    \n",
    "    return (train_X, train_Y), (test_X, test_Y)\n",
    "\n"
   ]
  },
  {
   "cell_type": "code",
   "execution_count": 7,
   "metadata": {},
   "outputs": [],
   "source": [
    "def plot_acc(history, title=None):\n",
    "    if not isinstance(history, dict):\n",
    "        history = history.history\n",
    "        \n",
    "    plt.plot(history['acc'])\n",
    "    plt.plot(history['val_acc'])\n",
    "    \n",
    "    if title is not None:\n",
    "        plt.title(title)\n",
    "    plt.ylabel('Accuracy')\n",
    "    plt.xlabel('Epoch')\n",
    "    plt.legend(['Traning data', 'Validation data'], loc=0)\n",
    "    plt.show()\n",
    "    \n",
    "def plot_loss(history, title=None):\n",
    "    if not isinstance(history, dict):\n",
    "        history = history.history\n",
    "        \n",
    "    plt.plot(history['loss'])\n",
    "    plt.plot(history['val_loss'])\n",
    "    \n",
    "    if title is not None:\n",
    "        plt.title(title)\n",
    "    plt.ylabel('Loss')\n",
    "    plt.xlabel('Epoch')\n",
    "    plt.legend(['Traning data', 'Validation data'], loc=0)\n",
    "    plt.show()\n",
    "    \n",
    "    "
   ]
  },
  {
   "cell_type": "code",
   "execution_count": 8,
   "metadata": {},
   "outputs": [],
   "source": [
    "def main():\n",
    "    batch_size   = 128 * 2\n",
    "    epochs       = 3\n",
    "    num_classes  = 10\n",
    "    \n",
    "    (train_X, train_Y), (test_X, test_Y) = prepare_mnist_data_for_CNN()\n",
    "    input_shape = train_X.shape[1:]\n",
    "    print(train_X.shape, test_X.shape)\n",
    "    print(input_shape)\n",
    "    \n",
    "    \n",
    "    model = CNN(input_shape, num_classes)\n",
    "    print(\"After model\")\n",
    "    history = model.fit(train_X, train_Y, batch_size=batch_size, epochs=epochs, validation_split=0.2)\n",
    "    score   = model.evaluate(test_X, test_Y)\n",
    "    \n",
    "    print('Test loss: {:.2f}'.format(score[0]))\n",
    "    print('Test accuracy: {:.2f}'.format(score[1]))\n",
    "    \n",
    "    plot_acc(history)\n",
    "    plot_loss(history)"
   ]
  },
  {
   "cell_type": "code",
   "execution_count": 9,
   "metadata": {},
   "outputs": [
    {
     "name": "stdout",
     "output_type": "stream",
     "text": [
      "Downloading data from https://s3.amazonaws.com/img-datasets/mnist.npz\n",
      "11493376/11490434 [==============================] - 10s 1us/step\n",
      "60000\n",
      "(60000, 28, 28, 1) (10000, 28, 28, 1)\n",
      "(28, 28, 1)\n",
      "After model\n",
      "Train on 48000 samples, validate on 12000 samples\n",
      "Epoch 1/3\n",
      "48000/48000 [==============================] - 95s 2ms/step - loss: 0.3074 - acc: 0.9054 - val_loss: 0.0757 - val_acc: 0.9786\n",
      "Epoch 2/3\n",
      "48000/48000 [==============================] - 96s 2ms/step - loss: 0.0943 - acc: 0.9715 - val_loss: 0.0511 - val_acc: 0.9842\n",
      "Epoch 3/3\n",
      "48000/48000 [==============================] - 92s 2ms/step - loss: 0.0675 - acc: 0.9797 - val_loss: 0.0428 - val_acc: 0.9875\n",
      "10000/10000 [==============================] - 6s 621us/step\n",
      "Test loss: 0.03\n",
      "Test accuracy: 0.99\n"
     ]
    },
    {
     "ename": "AttributeError",
     "evalue": "module 'matplotlib.pyplot' has no attribute 'legent'",
     "output_type": "error",
     "traceback": [
      "\u001b[0;31m---------------------------------------------------------------------------\u001b[0m",
      "\u001b[0;31mAttributeError\u001b[0m                            Traceback (most recent call last)",
      "\u001b[0;32m<ipython-input-9-263240bbee7e>\u001b[0m in \u001b[0;36m<module>\u001b[0;34m()\u001b[0m\n\u001b[0;32m----> 1\u001b[0;31m \u001b[0mmain\u001b[0m\u001b[0;34m(\u001b[0m\u001b[0;34m)\u001b[0m\u001b[0;34m\u001b[0m\u001b[0m\n\u001b[0m",
      "\u001b[0;32m<ipython-input-8-19ee54f4d61e>\u001b[0m in \u001b[0;36mmain\u001b[0;34m()\u001b[0m\n\u001b[1;32m     18\u001b[0m     \u001b[0mprint\u001b[0m\u001b[0;34m(\u001b[0m\u001b[0;34m'Test accuracy: {:.2f}'\u001b[0m\u001b[0;34m.\u001b[0m\u001b[0mformat\u001b[0m\u001b[0;34m(\u001b[0m\u001b[0mscore\u001b[0m\u001b[0;34m[\u001b[0m\u001b[0;36m1\u001b[0m\u001b[0;34m]\u001b[0m\u001b[0;34m)\u001b[0m\u001b[0;34m)\u001b[0m\u001b[0;34m\u001b[0m\u001b[0m\n\u001b[1;32m     19\u001b[0m \u001b[0;34m\u001b[0m\u001b[0m\n\u001b[0;32m---> 20\u001b[0;31m     \u001b[0mplot_acc\u001b[0m\u001b[0;34m(\u001b[0m\u001b[0mhistory\u001b[0m\u001b[0;34m)\u001b[0m\u001b[0;34m\u001b[0m\u001b[0m\n\u001b[0m\u001b[1;32m     21\u001b[0m     \u001b[0mplot_loss\u001b[0m\u001b[0;34m(\u001b[0m\u001b[0mhistory\u001b[0m\u001b[0;34m)\u001b[0m\u001b[0;34m\u001b[0m\u001b[0m\n",
      "\u001b[0;32m<ipython-input-7-f6f2b6c01e55>\u001b[0m in \u001b[0;36mplot_acc\u001b[0;34m(history, title)\u001b[0m\n\u001b[1;32m     10\u001b[0m     \u001b[0mplt\u001b[0m\u001b[0;34m.\u001b[0m\u001b[0mylabel\u001b[0m\u001b[0;34m(\u001b[0m\u001b[0;34m'Accuracy'\u001b[0m\u001b[0;34m)\u001b[0m\u001b[0;34m\u001b[0m\u001b[0m\n\u001b[1;32m     11\u001b[0m     \u001b[0mplt\u001b[0m\u001b[0;34m.\u001b[0m\u001b[0mxlabel\u001b[0m\u001b[0;34m(\u001b[0m\u001b[0;34m'Epoch'\u001b[0m\u001b[0;34m)\u001b[0m\u001b[0;34m\u001b[0m\u001b[0m\n\u001b[0;32m---> 12\u001b[0;31m     \u001b[0mplt\u001b[0m\u001b[0;34m.\u001b[0m\u001b[0mlegent\u001b[0m\u001b[0;34m(\u001b[0m\u001b[0;34m[\u001b[0m\u001b[0;34m'Traning data'\u001b[0m\u001b[0;34m,\u001b[0m \u001b[0;34m'Validation data'\u001b[0m\u001b[0;34m]\u001b[0m\u001b[0;34m,\u001b[0m \u001b[0mloc\u001b[0m\u001b[0;34m=\u001b[0m\u001b[0;36m0\u001b[0m\u001b[0;34m)\u001b[0m\u001b[0;34m\u001b[0m\u001b[0m\n\u001b[0m\u001b[1;32m     13\u001b[0m     \u001b[0mplt\u001b[0m\u001b[0;34m.\u001b[0m\u001b[0mshow\u001b[0m\u001b[0;34m(\u001b[0m\u001b[0;34m)\u001b[0m\u001b[0;34m\u001b[0m\u001b[0m\n\u001b[1;32m     14\u001b[0m \u001b[0;34m\u001b[0m\u001b[0m\n",
      "\u001b[0;31mAttributeError\u001b[0m: module 'matplotlib.pyplot' has no attribute 'legent'"
     ]
    },
    {
     "data": {
      "image/png": "[encoded data removed]",
      "text/plain": [
       "<matplotlib.figure.Figure at 0x135ab1cf8>"
      ]
     },
     "metadata": {},
     "output_type": "display_data"
    }
   ],
   "source": [
    "main()"
   ]
  },
  {
   "cell_type": "code",
   "execution_count": null,
   "metadata": {},
   "outputs": [],
   "source": []
  }
 ],
 "metadata": {
  "kernelspec": {
   "display_name": "Python 3",
   "language": "python",
   "name": "python3"
  },
  "language_info": {
   "codemirror_mode": {
    "name": "ipython",
    "version": 3
   },
   "file_extension": ".py",
   "mimetype": "text/x-python",
   "name": "python",
   "nbconvert_exporter": "python",
   "pygments_lexer": "ipython3",
   "version": "3.6.3"
  }
 },
 "nbformat": 4,
 "nbformat_minor": 2
}
