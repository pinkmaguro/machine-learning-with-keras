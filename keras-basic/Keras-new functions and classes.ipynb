{
 "cells": [
  {
   "cell_type": "code",
   "execution_count": 9,
   "metadata": {},
   "outputs": [],
   "source": [
    "import numpy as np\n",
    "import matplotlib.pyplot as plt\n",
    "\n",
    "from keras import models\n",
    "from keras.layers import Dense, Conv1D, Reshape, Flatten, Lambda\n",
    "from keras import backend as K\n",
    "\n",
    "import tensorflow as tf"
   ]
  },
  {
   "cell_type": "markdown",
   "metadata": {},
   "source": [
    "\n",
    "# 이 노트북에서는 새로 나온 함수와 클래스들에 대해서 실습을 해보면서 그 내용을 확인합니다.\n",
    "\n",
    "## mean"
   ]
  },
  {
   "cell_type": "code",
   "execution_count": 18,
   "metadata": {},
   "outputs": [
    {
     "data": {
      "text/plain": [
       "(2, 3, 4)"
      ]
     },
     "execution_count": 18,
     "metadata": {},
     "output_type": "execute_result"
    }
   ],
   "source": [
    "x = np.arange(24).reshape(2,3,4).astype('float32')\n",
    "x.shape"
   ]
  },
  {
   "cell_type": "code",
   "execution_count": 19,
   "metadata": {},
   "outputs": [
    {
     "data": {
      "text/plain": [
       "array([[[  0.,   1.,   2.,   3.],\n",
       "        [  4.,   5.,   6.,   7.],\n",
       "        [  8.,   9.,  10.,  11.]],\n",
       "\n",
       "       [[ 12.,  13.,  14.,  15.],\n",
       "        [ 16.,  17.,  18.,  19.],\n",
       "        [ 20.,  21.,  22.,  23.]]], dtype=float32)"
      ]
     },
     "execution_count": 19,
     "metadata": {},
     "output_type": "execute_result"
    }
   ],
   "source": [
    "x"
   ]
  },
  {
   "cell_type": "code",
   "execution_count": 20,
   "metadata": {},
   "outputs": [],
   "source": [
    "x = tf.convert_to_tensor(x)"
   ]
  },
  {
   "cell_type": "code",
   "execution_count": 25,
   "metadata": {},
   "outputs": [
    {
     "name": "stdout",
     "output_type": "stream",
     "text": [
      "(2, 3, 1)\n",
      "[[[  1.5]\n",
      "  [  5.5]\n",
      "  [  9.5]]\n",
      "\n",
      " [[ 13.5]\n",
      "  [ 17.5]\n",
      "  [ 21.5]]]\n",
      "(2, 3)\n",
      "[[  1.5   5.5   9.5]\n",
      " [ 13.5  17.5  21.5]]\n"
     ]
    }
   ],
   "source": [
    "with tf.Session() as sess:\n",
    "    keepdims = [True, False]\n",
    "    \n",
    "    for keep in keepdims:    \n",
    "        rs = sess.run(K.mean(x, axis=-1, keepdims=keep))\n",
    "        print(rs.shape)\n",
    "        print(rs)"
   ]
  },
  {
   "cell_type": "markdown",
   "metadata": {},
   "source": [
    "## Conv1D\n",
    "\n",
    "https://keras.io/layers/convolutional/"
   ]
  },
  {
   "cell_type": "code",
   "execution_count": 30,
   "metadata": {},
   "outputs": [],
   "source": [
    "def conv1d():\n",
    "    ni_D = 10\n",
    "    m = models.Sequential()\n",
    "    m.add(Reshape((ni_D, 1), input_shape=(ni_D,)))\n",
    "    m.add(Conv1D(5, 1, activation=None))\n",
    "    m.add(Conv1D(1, 1))\n",
    "    m.compile(optimizer='adam', loss='binary_crossentropy')\n",
    "    return m"
   ]
  },
  {
   "cell_type": "code",
   "execution_count": 31,
   "metadata": {},
   "outputs": [],
   "source": [
    "m = conv1d()"
   ]
  },
  {
   "cell_type": "code",
   "execution_count": 44,
   "metadata": {},
   "outputs": [
    {
     "data": {
      "text/plain": [
       "array([[[ 3.21412921],\n",
       "        [ 0.        ],\n",
       "        [ 1.78562713],\n",
       "        [ 0.        ],\n",
       "        [ 1.42850184],\n",
       "        [ 1.78562713],\n",
       "        [ 0.71425092],\n",
       "        [ 0.35712546],\n",
       "        [ 2.14275265],\n",
       "        [ 3.21412921]],\n",
       "\n",
       "       [[ 2.14275265],\n",
       "        [ 2.85700369],\n",
       "        [ 1.07137632],\n",
       "        [ 0.71425092],\n",
       "        [ 0.        ],\n",
       "        [ 2.14275265],\n",
       "        [ 1.07137632],\n",
       "        [ 2.14275265],\n",
       "        [ 1.78562713],\n",
       "        [ 1.78562713]]], dtype=float32)"
      ]
     },
     "execution_count": 44,
     "metadata": {},
     "output_type": "execute_result"
    }
   ],
   "source": [
    "x = np.random.randint(low=0, high=10, size=(2,10))\n",
    "m.predict(x)"
   ]
  },
  {
   "cell_type": "markdown",
   "metadata": {},
   "source": [
    "## concatenate"
   ]
  },
  {
   "cell_type": "code",
   "execution_count": 43,
   "metadata": {},
   "outputs": [
    {
     "data": {
      "text/plain": [
       "array([[ 0,  1,  2],\n",
       "       [ 3,  4,  5],\n",
       "       [ 0,  1,  2],\n",
       "       [ 3,  4,  5],\n",
       "       [ 6,  7,  8],\n",
       "       [ 9, 10, 11]])"
      ]
     },
     "execution_count": 43,
     "metadata": {},
     "output_type": "execute_result"
    }
   ],
   "source": [
    "Real = np.arange(6).reshape(2,3)\n",
    "Gen  = np.arange(12).reshape(4,3)\n",
    "\n",
    "np.concatenate([Real, Gen], axis=0)"
   ]
  },
  {
   "cell_type": "code",
   "execution_count": null,
   "metadata": {},
   "outputs": [],
   "source": []
  }
 ],
 "metadata": {
  "kernelspec": {
   "display_name": "Python 3",
   "language": "python",
   "name": "python3"
  },
  "language_info": {
   "codemirror_mode": {
    "name": "ipython",
    "version": 3
   },
   "file_extension": ".py",
   "mimetype": "text/x-python",
   "name": "python",
   "nbconvert_exporter": "python",
   "pygments_lexer": "ipython3",
   "version": "3.6.4"
  }
 },
 "nbformat": 4,
 "nbformat_minor": 2
}
