{
 "cells": [
  {
   "cell_type": "code",
   "execution_count": 26,
   "metadata": {},
   "outputs": [],
   "source": [
    "from keras.models import Sequential\n",
    "from keras.layers import Dense\n",
    "\n",
    "import numpy as np\n",
    "import matplotlib.pyplot as plt"
   ]
  },
  {
   "cell_type": "code",
   "execution_count": 27,
   "metadata": {},
   "outputs": [
    {
     "name": "stdout",
     "output_type": "stream",
     "text": [
      "(100, 2)\n",
      "(100, 1)\n"
     ]
    }
   ],
   "source": [
    "data = np.loadtxt('../data/logistic_data1.txt', delimiter=',')\n",
    "\n",
    "X = data[:,:data.shape[1] - 1]; print(X.shape)  #X = data[:, 0:2]\n",
    "Y = data[:,data.shape[1] - 1:]; print(Y.shape)  #y = data[:, 2]"
   ]
  },
  {
   "cell_type": "code",
   "execution_count": 28,
   "metadata": {},
   "outputs": [
    {
     "name": "stdout",
     "output_type": "stream",
     "text": [
      "[[34.62365962 78.02469282]\n",
      " [30.28671077 43.89499752]\n",
      " [35.84740877 72.90219803]\n",
      " [60.18259939 86.3085521 ]\n",
      " [79.03273605 75.34437644]]\n",
      "[[0.]\n",
      " [0.]\n",
      " [0.]\n",
      " [1.]\n",
      " [1.]]\n"
     ]
    }
   ],
   "source": [
    "print(X[:5,:])\n",
    "print(Y[:5,:])"
   ]
  },
  {
   "cell_type": "markdown",
   "metadata": {},
   "source": [
    "데이터를 살펴보니 X 는 (x1, x2) 형태의 피쳐가 두 개입니다.\n",
    "\n",
    "참고로 x1 은 중간고사의 점수 x2 는 기말고사의 점수로 레이블 1은 합격, 레이블 0은 불합격을 의미합니다.\n",
    "\n",
    "x1 과 x2 의 스케일이 어느정도 비슷하고 숫자의 크기도 크지 않으니 우선 데이터를 정규화하지 않고 그냥 회귀를 해보겠습니다.\n",
    "\n",
    "데이터를 눈으로 확인했으니 시각화도 해보겠습니다."
   ]
  },
  {
   "cell_type": "code",
   "execution_count": 29,
   "metadata": {},
   "outputs": [
    {
     "data": {
      "image/png": "[encoded data removed]",
      "text/plain": [
       "<matplotlib.figure.Figure at 0x7fa01bfe2780>"
      ]
     },
     "metadata": {},
     "output_type": "display_data"
    }
   ],
   "source": [
    "pos = np.where(Y == 1)\n",
    "neg = np.where(Y == 0)\n",
    "plt.scatter(X[pos, 0], X[pos, 1], marker='+', c='r')\n",
    "plt.scatter(X[neg, 0], X[neg, 1], marker='o', c='skyblue')\n",
    "plt.xlabel('Exam 1 score')\n",
    "plt.ylabel('Exam 2 score')\n",
    "plt.legend(['Admitted', 'Not Admitted'])\n",
    "plt.show()"
   ]
  },
  {
   "cell_type": "code",
   "execution_count": 50,
   "metadata": {},
   "outputs": [],
   "source": [
    "from keras.utils.np_utils import to_categorical\n",
    "from sklearn.preprocessing import StandardScaler\n",
    "\n",
    "scaler = StandardScaler()\n",
    "train_X = scaler.fit_transform(X)\n",
    "train_Y = to_categorical(Y)"
   ]
  },
  {
   "cell_type": "code",
   "execution_count": 45,
   "metadata": {},
   "outputs": [],
   "source": [
    "def train_binary_logistic(train_X, train_Y):\n",
    "    model = Sequential()\n",
    "    model.add(Dense(10, input_shape=(train_X.shape[1],)))\n",
    "    model.add(Dense(20, activation='relu'))\n",
    "    model.add(Dense(2, activation='softmax'))\n",
    "    model.compile(optimizer='adam', loss='categorical_crossentropy', metrics=['accuracy'])\n",
    "    history = model.fit(train_X, train_Y, epochs=10, batch_size=10)\n",
    "    return model"
   ]
  },
  {
   "cell_type": "code",
   "execution_count": 46,
   "metadata": {},
   "outputs": [
    {
     "name": "stdout",
     "output_type": "stream",
     "text": [
      "Epoch 1/10\n",
      "100/100 [==============================] - 1s 6ms/step - loss: 0.8846 - acc: 0.3300\n",
      "Epoch 2/10\n",
      "100/100 [==============================] - 0s 371us/step - loss: 0.8132 - acc: 0.5000\n",
      "Epoch 3/10\n",
      "100/100 [==============================] - 0s 218us/step - loss: 0.7586 - acc: 0.6500\n",
      "Epoch 4/10\n",
      "100/100 [==============================] - 0s 349us/step - loss: 0.7076 - acc: 0.6900\n",
      "Epoch 5/10\n",
      "100/100 [==============================] - 0s 369us/step - loss: 0.6655 - acc: 0.7200\n",
      "Epoch 6/10\n",
      "100/100 [==============================] - 0s 390us/step - loss: 0.6274 - acc: 0.8000\n",
      "Epoch 7/10\n",
      "100/100 [==============================] - 0s 349us/step - loss: 0.5904 - acc: 0.8100\n",
      "Epoch 8/10\n",
      "100/100 [==============================] - 0s 368us/step - loss: 0.5598 - acc: 0.8400\n",
      "Epoch 9/10\n",
      "100/100 [==============================] - 0s 331us/step - loss: 0.5294 - acc: 0.8700\n",
      "Epoch 10/10\n",
      "100/100 [==============================] - 0s 447us/step - loss: 0.5010 - acc: 0.8800\n"
     ]
    }
   ],
   "source": [
    "model = train_binary_logistic(train_X, train_Y)"
   ]
  },
  {
   "cell_type": "code",
   "execution_count": 47,
   "metadata": {},
   "outputs": [],
   "source": [
    "prediction_prob = model.predict(train_X)"
   ]
  },
  {
   "cell_type": "code",
   "execution_count": 48,
   "metadata": {},
   "outputs": [],
   "source": [
    "prediction = np.argmax(prediction_prob, axis=1)"
   ]
  },
  {
   "cell_type": "code",
   "execution_count": 49,
   "metadata": {},
   "outputs": [
    {
     "data": {
      "text/plain": [
       "array([0, 0, 0, 1, 1, 0, 1, 0, 1, 1])"
      ]
     },
     "execution_count": 49,
     "metadata": {},
     "output_type": "execute_result"
    }
   ],
   "source": [
    "prediction[:10]"
   ]
  },
  {
   "cell_type": "code",
   "execution_count": 74,
   "metadata": {},
   "outputs": [],
   "source": [
    "from matplotlib.colors import LinearSegmentedColormap\n",
    "def plot_binaryMesh(clf, X, Y):\n",
    "    scaler = StandardScaler().fit(X)\n",
    "    pts = 200\n",
    "    x_min, x_max = X[:, 0].min() - .5, X[:, 0].max() + .5\n",
    "    y_min, y_max = X[:, 1].min() - .5, X[:, 1].max() + .5 \n",
    "    xx, yy = np.meshgrid(np.linspace(x_min, x_max, pts), np.linspace(y_min, y_max, pts))\n",
    "    scaled_X = scaler.transform(np.c_[xx.ravel(), yy.ravel()])[:,:] \n",
    "    Z = clf.predict(scaled_X)\n",
    "    Z = np.argmax(Z, axis=1)\n",
    "    cm_field = LinearSegmentedColormap.from_list('field',['lightskyblue', 'lightsalmon'], N=2)\n",
    "    cm_data = LinearSegmentedColormap.from_list('data', ['blue', 'red'], N=2)\n",
    "    # Put the result into a color plot\n",
    "    Z = Z.reshape(xx.shape)\n",
    "    \n",
    "    plt.figure(1, figsize=(6, 6))\n",
    "    ax = plt.gca()\n",
    "    ax.pcolormesh(xx, yy, Z, cmap=cm_field)\n",
    "    #print(Z)\n",
    "    ax.scatter(X[:, 0], X[:, 1], c=Y.ravel(), edgecolors='k', cmap=cm_data)\n",
    "    "
   ]
  },
  {
   "cell_type": "code",
   "execution_count": 75,
   "metadata": {},
   "outputs": [
    {
     "data": {
      "image/png": "[encoded data removed]",
      "text/plain": [
       "<matplotlib.figure.Figure at 0x7fa019da6a90>"
      ]
     },
     "metadata": {},
     "output_type": "display_data"
    }
   ],
   "source": [
    "plot_binaryMesh(model, X, Y)"
   ]
  }
 ],
 "metadata": {
  "kernelspec": {
   "display_name": "Python 3",
   "language": "python",
   "name": "python3"
  },
  "language_info": {
   "codemirror_mode": {
    "name": "ipython",
    "version": 3
   },
   "file_extension": ".py",
   "mimetype": "text/x-python",
   "name": "python",
   "nbconvert_exporter": "python",
   "pygments_lexer": "ipython3",
   "version": "3.6.3"
  }
 },
 "nbformat": 4,
 "nbformat_minor": 2
}
