{
 "cells": [
  {
   "cell_type": "markdown",
   "metadata": {},
   "source": [
    "신경망 모델로는 주로 분류(classification)문제를 다루는데 사용하지만 이번에는 회귀(regression)문제에 사용해보겠습니다."
   ]
  },
  {
   "cell_type": "markdown",
   "metadata": {},
   "source": [
    "## The Boston Housing Price dataset\n",
    "\n",
    "1970년대 중반의 보스톤 근교의 집 가격과 관련된 13개의 피처들에 대한 데이터로 집 가격을 최대한 정확하게 예측하는 회귀 모델을 만들어보겠습니다.\n",
    "\n",
    "13개의 피처들은 내용은 다음과 같습니다.\n",
    "\n",
    "- 범죄율은 낮을 수록 집 값이 높을 것이라고 예상할 수 있습니다.\n",
    "- 학생/교사 비율은 높을 수록 집 값을 낮을 수도 있겠습니다.\n",
    "\n",
    "CRIM per capita crime rate by town\n",
    "\n",
    "ZN proportion of residential land zoned for lots over 25,000 sq.ft.\n",
    "\n",
    "INDUS proportion of non-retail business acres per town\n",
    "\n",
    "CHAS Charles River dummy variable (= 1 if tract bounds river; 0 otherwise)\n",
    "\n",
    "NOX nitric oxides concentration (parts per 10 million)\n",
    "\n",
    "RM average number of rooms per dwelling\n",
    "\n",
    "AGE proportion of owner-occupied units built prior to 1940\n",
    "\n",
    "DIS weighted distances to five Boston employment centres\n",
    "\n",
    "RAD index of accessibility to radial highways\n",
    "\n",
    "TAX full-value property-tax rate per $10,000\n",
    "\n",
    "PTRATIO pupil-teacher ratio by town\n",
    "\n",
    "B 1000(Bk - 0.63)^2 where Bk is the proportion of blacks by town\n",
    "\n",
    "LSTAT % lower status of the population"
   ]
  },
  {
   "cell_type": "markdown",
   "metadata": {},
   "source": [
    "## 데이터 가져오기"
   ]
  },
  {
   "cell_type": "code",
   "execution_count": 200,
   "metadata": {},
   "outputs": [],
   "source": [
    "from keras.datasets import boston_housing\n",
    "\n",
    "(train_data, train_targets), (test_data, test_targets) = boston_housing.load_data()"
   ]
  },
  {
   "cell_type": "markdown",
   "metadata": {},
   "source": [
    "### 데이터 확인하기"
   ]
  },
  {
   "cell_type": "code",
   "execution_count": 201,
   "metadata": {},
   "outputs": [
    {
     "data": {
      "text/plain": [
       "((404, 13), (102, 13))"
      ]
     },
     "execution_count": 201,
     "metadata": {},
     "output_type": "execute_result"
    }
   ],
   "source": [
    "train_data.shape, test_data.shape"
   ]
  },
  {
   "cell_type": "code",
   "execution_count": 202,
   "metadata": {},
   "outputs": [
    {
     "data": {
      "text/plain": [
       "((404,), (102,))"
      ]
     },
     "execution_count": 202,
     "metadata": {},
     "output_type": "execute_result"
    }
   ],
   "source": [
    "train_targets.shape, test_targets.shape"
   ]
  },
  {
   "cell_type": "code",
   "execution_count": 203,
   "metadata": {},
   "outputs": [
    {
     "data": {
      "text/plain": [
       "(array([   1.23247,    0.     ,    8.14   ,    0.     ,    0.538  ,\n",
       "           6.142  ,   91.7    ,    3.9769 ,    4.     ,  307.     ,\n",
       "          21.     ,  396.9    ,   18.72   ]), 15.199999999999999)"
      ]
     },
     "execution_count": 203,
     "metadata": {},
     "output_type": "execute_result"
    }
   ],
   "source": [
    "train_data[0], train_targets[0]"
   ]
  },
  {
   "cell_type": "markdown",
   "metadata": {},
   "source": [
    "## 데이터 전처리: 정규화\n",
    "- 앞선 실습에서 MNIST 데이터에서 사용한 정규화는 피처의 최소값, 최대값을 사용해서 피처값이 0에서 1사이의 값을 가지도록 정규화를 했습니다.\n",
    "- 이번에는 각 피처의 평균과 표준편차를 사용해서 표준 정규화를 해보겠습니다.\n",
    "- 그 후에 표준 정규화를 scikit-learn 에 있는 표준 정규화 클래스를 사용해서 해보겠습니다.\n",
    "- 표준 정규화를 하면 데이터의 값은 대부분 -2 에서 +2 사이의 값이 됩니다."
   ]
  },
  {
   "cell_type": "code",
   "execution_count": 204,
   "metadata": {},
   "outputs": [],
   "source": [
    "mean = train_data.mean(axis=0)\n",
    "std  = train_data.std(axis=0)\n",
    "\n",
    "train_X = train_data.copy()\n",
    "test_X  = test_data.copy()\n",
    "\n",
    "train_X = train_X - mean\n",
    "train_X = train_X / std\n",
    "\n",
    "test_X  = test_X - mean\n",
    "test_X  = test_X / std"
   ]
  },
  {
   "cell_type": "code",
   "execution_count": 205,
   "metadata": {},
   "outputs": [
    {
     "data": {
      "text/plain": [
       "array([-0.27224633, -0.48361547, -0.43576161, -0.25683275, -0.1652266 ,\n",
       "       -0.1764426 ,  0.81306188,  0.1166983 , -0.62624905, -0.59517003,\n",
       "        1.14850044,  0.44807713,  0.8252202 ])"
      ]
     },
     "execution_count": 205,
     "metadata": {},
     "output_type": "execute_result"
    }
   ],
   "source": [
    "train_X[0]"
   ]
  },
  {
   "cell_type": "markdown",
   "metadata": {},
   "source": [
    "이번엔 sklearn 에 있는 정규화 클래스를 사용해서 같은 작업을 해보겠습니다."
   ]
  },
  {
   "cell_type": "code",
   "execution_count": 206,
   "metadata": {},
   "outputs": [],
   "source": [
    "from sklearn.preprocessing import StandardScaler"
   ]
  },
  {
   "cell_type": "code",
   "execution_count": 207,
   "metadata": {},
   "outputs": [
    {
     "data": {
      "text/plain": [
       "StandardScaler(copy=True, with_mean=True, with_std=True)"
      ]
     },
     "execution_count": 207,
     "metadata": {},
     "output_type": "execute_result"
    }
   ],
   "source": [
    "scaler = StandardScaler()\n",
    "scaler.fit(train_data)"
   ]
  },
  {
   "cell_type": "code",
   "execution_count": 208,
   "metadata": {},
   "outputs": [
    {
     "data": {
      "text/plain": [
       "array([-0.27224633, -0.48361547, -0.43576161, -0.25683275, -0.1652266 ,\n",
       "       -0.1764426 ,  0.81306188,  0.1166983 , -0.62624905, -0.59517003,\n",
       "        1.14850044,  0.44807713,  0.8252202 ])"
      ]
     },
     "execution_count": 208,
     "metadata": {},
     "output_type": "execute_result"
    }
   ],
   "source": [
    "train_X = scaler.transform(train_data)\n",
    "train_X[0]"
   ]
  },
  {
   "cell_type": "markdown",
   "metadata": {},
   "source": [
    "위에서 정규화한 결과와 방금 사이킷런의 StandardScaler 를 사용한 정규과의 결과가 같지 않습니까?\n",
    "\n",
    "StandardScaler 클랫를 사용하면 더 편하고 재사용이 가능한 정규화 모델을 만들 수 있습니다.\n",
    "\n",
    "머신러닝에서의 정규화는 다양한 범위의 피처(변수)들을 일정한 범위내의 값들로 스케일을 조절하는 기능을 합니다.\n",
    "\n",
    "왜 MinMaxScaler 보다 StandardScaler 가 더 좋은 선택인지 생각해보면 좋을 것 같습니다.\n",
    "\n",
    "훈련 데이터로 정규화한 StandardScaler 의 인스턴스로 테스트셋의 입력데이터도 정규화해두겠습니다."
   ]
  },
  {
   "cell_type": "code",
   "execution_count": 209,
   "metadata": {},
   "outputs": [],
   "source": [
    "test_X = scaler.transform(test_data)"
   ]
  },
  {
   "cell_type": "markdown",
   "metadata": {},
   "source": [
    "## 회귀에 대한 신경망 쌓기\n",
    "\n",
    "- 활성함수: ReLU\n",
    "- 옵티마이저: adam\n",
    "- 손실함수: mse, mean square error\n",
    "- 평가지수: mae, mean absolute error"
   ]
  },
  {
   "cell_type": "code",
   "execution_count": 210,
   "metadata": {},
   "outputs": [],
   "source": [
    "from keras import models\n",
    "from keras import layers\n",
    "\n",
    "def build_model():\n",
    "    model = models.Sequential()\n",
    "    model.add(layers.Dense(64, activation='relu',\n",
    "                           input_shape=(train_X.shape[1],)))\n",
    "    model.add(layers.Dense(64, activation='relu'))\n",
    "    model.add(layers.Dense(1))\n",
    "    # mse : mean square error,  mae : mean absolute error\n",
    "    model.compile(optimizer='rmsprop', loss='mse', metrics=['mae'])\n",
    "    return model"
   ]
  },
  {
   "cell_type": "markdown",
   "metadata": {},
   "source": [
    "## K-fold 검증\n",
    "- 데이터를 K 등분해서 각 1/K 에 해당하는 데이터를 테스트셋으로 사용함\n",
    "- 전체 데이터셋이 작은 경우 K-fold 검증을 많이 사용함\n",
    "- 아래의 방법은 `from sklearn.model_selection import KFold`를 사용하면 더 편하게 코딩할 수 있음"
   ]
  },
  {
   "cell_type": "code",
   "execution_count": 211,
   "metadata": {},
   "outputs": [
    {
     "name": "stdout",
     "output_type": "stream",
     "text": [
      "Processing fold # 1\n",
      "Processing fold # 2\n",
      "Processing fold # 3\n",
      "Processing fold # 4\n",
      "Done!\n"
     ]
    }
   ],
   "source": [
    "import numpy as np\n",
    "\n",
    "# 훈련셋을 4 등분해서 한 부분을 테스트에 사용하고 나머지 세 부분을 훈련에 사용\n",
    "k_fold = 4\n",
    "# 훈련셋을 k_fold 등분 했을 때 한 부분의 길이\n",
    "num_val_samples = len(train_X) // k_fold\n",
    "# 훈련 에폭\n",
    "epochs = 10\n",
    "# 각 k_fold 로 나눈 데이터들을 훈련시킨 결과를 저장\n",
    "all_scores = list()\n",
    "\n",
    "for i in range(k_fold):\n",
    "    print('Processing fold # {}'.format(i+1))\n",
    "    \n",
    "    # 검증 데이터 준비\n",
    "    val_data    = train_X[i * num_val_samples: (i + 1) * num_val_samples]\n",
    "    val_targets = train_targets[i * num_val_samples: (i + 1) * num_val_samples]\n",
    "    \n",
    "    # 훈련 데이터 준비\n",
    "    partial_train_data = np.concatenate(\n",
    "        [train_X[:i * num_val_samples],\n",
    "         train_X[(i + 1) * num_val_samples:]], axis=0)\n",
    "    \n",
    "    partial_train_targets = np.concatenate(\n",
    "        [train_targets[:i * num_val_samples],\n",
    "         train_targets[(i + 1) * num_val_samples:]], axis=0)   \n",
    "    \n",
    "    model = build_model()\n",
    "    model.fit(partial_train_data, partial_train_targets,\n",
    "                 epochs=epochs, batch_size=1, verbose=0)\n",
    "    val_mse, val_mae = model.evaluate(val_data, val_targets, verbose=0)\n",
    "    all_scores.append(val_mae)\n",
    "print(\"Done!\")"
   ]
  },
  {
   "cell_type": "code",
   "execution_count": 212,
   "metadata": {},
   "outputs": [
    {
     "data": {
      "text/plain": [
       "[2.4789228698994852, 2.5854188003162348, 2.551139253200871, 2.8047156286711741]"
      ]
     },
     "execution_count": 212,
     "metadata": {},
     "output_type": "execute_result"
    }
   ],
   "source": [
    "all_scores"
   ]
  },
  {
   "cell_type": "code",
   "execution_count": 213,
   "metadata": {},
   "outputs": [
    {
     "data": {
      "text/plain": [
       "2.6050491380219412"
      ]
     },
     "execution_count": 213,
     "metadata": {},
     "output_type": "execute_result"
    }
   ],
   "source": [
    "np.mean(all_scores)"
   ]
  },
  {
   "cell_type": "markdown",
   "metadata": {},
   "source": [
    "집 가격의 편차가 2.6 정도 난다는 의미로 해석할 수 있습니다."
   ]
  },
  {
   "cell_type": "markdown",
   "metadata": {},
   "source": [
    "## 위의 코드를 sklearn 의 KFold 를 사용해서 간단하게 "
   ]
  },
  {
   "cell_type": "code",
   "execution_count": 214,
   "metadata": {},
   "outputs": [],
   "source": [
    "import numpy as np\n",
    "\n",
    "def kfold_cross_validation_for_linear_model(data, epochs=100, n_splits=4):\n",
    "    all_scores = list()\n",
    "    kf = KFold(n_splits=n_splits)\n",
    "    \n",
    "    for i, (train_index, test_index) in enumerate(kf.split(data), 1):\n",
    "        print('Processing fold # {}'.format(i))\n",
    "        \n",
    "        # 훈련 데이터\n",
    "        partial_train_data    = train_X[train_index]\n",
    "        partial_train_targets = train_targets[train_index]\n",
    "        \n",
    "        # 검증 데이터 \n",
    "        val_data       = train_X[test_index]\n",
    "        val_targets    = train_targets[test_index]\n",
    "        \n",
    "        keras_model      = build_model()\n",
    "        # 훈련 후에 교차검증을 실행\n",
    "        # history.history.keys() \n",
    "        # ['val_loss', 'val_mean_absolute_error', 'loss', 'mean_absolute_error']\n",
    "        history = keras_model.fit(partial_train_data, partial_train_targets,\n",
    "                             validation_data=(val_data, val_targets),\n",
    "                             epochs=epochs, batch_size=1, verbose=0)\n",
    "          \n",
    "        mae_history = history.history['val_mean_absolute_error']\n",
    "        all_scores.append(mae_history)\n",
    "\n",
    "    print(\"Done!\")\n",
    "    return all_scores\n",
    "    "
   ]
  },
  {
   "cell_type": "code",
   "execution_count": 215,
   "metadata": {},
   "outputs": [
    {
     "name": "stdout",
     "output_type": "stream",
     "text": [
      "Processing fold # 1\n",
      "Processing fold # 2\n",
      "Processing fold # 3\n",
      "Processing fold # 4\n",
      "Done!\n"
     ]
    }
   ],
   "source": [
    "all_scores = kfold_cross_validation_for_linear_model(train_X, epochs=10)"
   ]
  },
  {
   "cell_type": "code",
   "execution_count": 216,
   "metadata": {},
   "outputs": [
    {
     "data": {
      "text/plain": [
       "[4.0694417859068013,\n",
       " 3.2509861842240437,\n",
       " 2.8881000953145546,\n",
       " 3.1013876660035389,\n",
       " 2.9786111151818,\n",
       " 2.47048290177147,\n",
       " 2.8827010711820997,\n",
       " 2.2830504332438553,\n",
       " 2.3164345675175735,\n",
       " 2.1662089470589514]"
      ]
     },
     "execution_count": 216,
     "metadata": {},
     "output_type": "execute_result"
    }
   ],
   "source": [
    "all_scores[0]"
   ]
  },
  {
   "cell_type": "code",
   "execution_count": 217,
   "metadata": {},
   "outputs": [
    {
     "data": {
      "text/plain": [
       "3.0577701677190197"
      ]
     },
     "execution_count": 217,
     "metadata": {},
     "output_type": "execute_result"
    }
   ],
   "source": [
    "np.mean(all_scores)"
   ]
  },
  {
   "cell_type": "markdown",
   "metadata": {},
   "source": [
    "코드가 좀 더 깔끔해졌습니다.\n",
    "\n",
    "이번에는 200 epochs 만큼 훈련을 시키면서 모델에 대한 평가를 기록해보겠습니다."
   ]
  },
  {
   "cell_type": "code",
   "execution_count": 218,
   "metadata": {},
   "outputs": [],
   "source": [
    "from keras import backend as K\n",
    "\n",
    "# Some memory clean-up\n",
    "# K.clear_session()"
   ]
  },
  {
   "cell_type": "code",
   "execution_count": 228,
   "metadata": {},
   "outputs": [
    {
     "name": "stdout",
     "output_type": "stream",
     "text": [
      "Processing fold # 1\n",
      "Processing fold # 2\n",
      "Processing fold # 3\n",
      "Processing fold # 4\n",
      "Done!\n"
     ]
    }
   ],
   "source": [
    "all_scores = kfold_cross_validation_for_linear_model(train_X, epochs=500)"
   ]
  },
  {
   "cell_type": "code",
   "execution_count": 229,
   "metadata": {},
   "outputs": [],
   "source": [
    "all_mae_histories = all_scores\n",
    "average_mae_history = [\n",
    "    np.mean([x[i] for x in all_mae_histories]) for i in range(len(all_mae_histories[0]))]\n"
   ]
  },
  {
   "cell_type": "code",
   "execution_count": 230,
   "metadata": {
    "scrolled": true
   },
   "outputs": [
    {
     "data": {
      "text/plain": [
       "(4, 500)"
      ]
     },
     "execution_count": 230,
     "metadata": {},
     "output_type": "execute_result"
    }
   ],
   "source": [
    "len(all_mae_histories),len(average_mae_history)"
   ]
  },
  {
   "cell_type": "code",
   "execution_count": 233,
   "metadata": {
    "scrolled": true
   },
   "outputs": [
    {
     "data": {
      "image/png": "[encoded data removed]",
      "text/plain": [
       "<matplotlib.figure.Figure at 0x7f685d912278>"
      ]
     },
     "metadata": {},
     "output_type": "display_data"
    }
   ],
   "source": [
    "import matplotlib.pyplot as plt\n",
    "plt.plot(range(len(all_mae_histories[0])), all_mae_histories[0])\n",
    "plt.show()"
   ]
  },
  {
   "cell_type": "code",
   "execution_count": 234,
   "metadata": {},
   "outputs": [
    {
     "data": {
      "image/png": "[encoded data removed]",
      "text/plain": [
       "<matplotlib.figure.Figure at 0x7f685d676a58>"
      ]
     },
     "metadata": {},
     "output_type": "display_data"
    }
   ],
   "source": [
    "\n",
    "\n",
    "plt.plot(range(1, len(average_mae_history) +1), average_mae_history)\n",
    "plt.xlabel('Epochs')\n",
    "plt.ylabel('Validation MAE')\n",
    "plt.show()"
   ]
  },
  {
   "cell_type": "markdown",
   "metadata": {},
   "source": [
    "히스토리의 처음 수치는 스케일이 다르므로 앞의 5개의 데이터를 제외한 상태에서 exponential moving average 를 구해서 그래프로 그려보겠습니다."
   ]
  },
  {
   "cell_type": "code",
   "execution_count": 236,
   "metadata": {},
   "outputs": [
    {
     "data": {
      "image/png": "[encoded data removed]",
      "text/plain": [
       "<matplotlib.figure.Figure at 0x7f685cfb6400>"
      ]
     },
     "metadata": {},
     "output_type": "display_data"
    }
   ],
   "source": [
    "def smooth_curve(points, factor=0.9):\n",
    "    smoothed_points = []\n",
    "    for point in points:\n",
    "        if smoothed_points:\n",
    "            previous = smoothed_points[-1]\n",
    "            smoothed_points.append(previous * factor + point * (1 - factor))\n",
    "        else:\n",
    "            smoothed_points.append(point)\n",
    "    return smoothed_points\n",
    "\n",
    "\n",
    "smooth_mae_history = smooth_curve(average_mae_history[5:])\n",
    "\n",
    "plt.plot(range(1, len(smooth_mae_history) +1 ), smooth_mae_history)\n",
    "plt.xlabel('Epochs')\n",
    "plt.ylabel('Validation MAE')\n",
    "plt.show()"
   ]
  },
  {
   "cell_type": "markdown",
   "metadata": {},
   "source": [
    "epoch 이 80 정도 이상에서는 오버피팅이 발생했다고 여겨진다."
   ]
  },
  {
   "cell_type": "code",
   "execution_count": null,
   "metadata": {},
   "outputs": [],
   "source": []
  }
 ],
 "metadata": {
  "kernelspec": {
   "display_name": "Python 3",
   "language": "python",
   "name": "python3"
  },
  "language_info": {
   "codemirror_mode": {
    "name": "ipython",
    "version": 3
   },
   "file_extension": ".py",
   "mimetype": "text/x-python",
   "name": "python",
   "nbconvert_exporter": "python",
   "pygments_lexer": "ipython3",
   "version": "3.6.3"
  }
 },
 "nbformat": 4,
 "nbformat_minor": 2
}
