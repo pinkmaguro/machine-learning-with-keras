{
 "cells": [
  {
   "cell_type": "code",
   "execution_count": 1,
   "metadata": {},
   "outputs": [],
   "source": [
    "import numpy as np\n",
    "import pandas as pd\n",
    "\n",
    "filename = 'data/K200.txt'"
   ]
  },
  {
   "cell_type": "code",
   "execution_count": 2,
   "metadata": {},
   "outputs": [],
   "source": [
    "df = pd.read_csv(filename, delimiter='\\t')"
   ]
  },
  {
   "cell_type": "code",
   "execution_count": 3,
   "metadata": {},
   "outputs": [
    {
     "data": {
      "text/html": [
       "<div>\n",
       "<style scoped>\n",
       "    .dataframe tbody tr th:only-of-type {\n",
       "        vertical-align: middle;\n",
       "    }\n",
       "\n",
       "    .dataframe tbody tr th {\n",
       "        vertical-align: top;\n",
       "    }\n",
       "\n",
       "    .dataframe thead th {\n",
       "        text-align: right;\n",
       "    }\n",
       "</style>\n",
       "<table border=\"1\" class=\"dataframe\">\n",
       "  <thead>\n",
       "    <tr style=\"text-align: right;\">\n",
       "      <th></th>\n",
       "      <th>일자</th>\n",
       "      <th>시가</th>\n",
       "      <th>고가</th>\n",
       "      <th>저가</th>\n",
       "      <th>종가</th>\n",
       "      <th>5</th>\n",
       "      <th>20</th>\n",
       "      <th>60</th>\n",
       "      <th>120</th>\n",
       "      <th>거래량</th>\n",
       "      <th>5.1</th>\n",
       "      <th>20.1</th>\n",
       "      <th>60.1</th>\n",
       "      <th>120.1</th>\n",
       "      <th>Unnamed: 14</th>\n",
       "    </tr>\n",
       "  </thead>\n",
       "  <tbody>\n",
       "    <tr>\n",
       "      <th>0</th>\n",
       "      <td>20180205</td>\n",
       "      <td>322.05</td>\n",
       "      <td>324.64</td>\n",
       "      <td>303.47</td>\n",
       "      <td>304.83</td>\n",
       "      <td>324.69</td>\n",
       "      <td>326.85</td>\n",
       "      <td>302.45</td>\n",
       "      <td>274.40</td>\n",
       "      <td>550,481,000</td>\n",
       "      <td>536,881,600</td>\n",
       "      <td>460,138,000</td>\n",
       "      <td>395,659,417</td>\n",
       "      <td>381,767,783</td>\n",
       "      <td>NaN</td>\n",
       "    </tr>\n",
       "    <tr>\n",
       "      <th>1</th>\n",
       "      <td>20180129</td>\n",
       "      <td>337.28</td>\n",
       "      <td>339.27</td>\n",
       "      <td>326.30</td>\n",
       "      <td>327.01</td>\n",
       "      <td>329.52</td>\n",
       "      <td>327.29</td>\n",
       "      <td>301.71</td>\n",
       "      <td>273.92</td>\n",
       "      <td>537,749,000</td>\n",
       "      <td>503,449,200</td>\n",
       "      <td>455,776,900</td>\n",
       "      <td>391,471,167</td>\n",
       "      <td>380,361,142</td>\n",
       "      <td>NaN</td>\n",
       "    </tr>\n",
       "    <tr>\n",
       "      <th>2</th>\n",
       "      <td>20180122</td>\n",
       "      <td>328.78</td>\n",
       "      <td>335.38</td>\n",
       "      <td>324.56</td>\n",
       "      <td>335.38</td>\n",
       "      <td>329.07</td>\n",
       "      <td>326.31</td>\n",
       "      <td>300.48</td>\n",
       "      <td>273.25</td>\n",
       "      <td>510,623,000</td>\n",
       "      <td>442,048,400</td>\n",
       "      <td>448,082,350</td>\n",
       "      <td>387,160,500</td>\n",
       "      <td>378,120,667</td>\n",
       "      <td>NaN</td>\n",
       "    </tr>\n",
       "    <tr>\n",
       "      <th>3</th>\n",
       "      <td>20180115</td>\n",
       "      <td>328.57</td>\n",
       "      <td>331.88</td>\n",
       "      <td>326.21</td>\n",
       "      <td>329.52</td>\n",
       "      <td>326.23</td>\n",
       "      <td>324.93</td>\n",
       "      <td>299.09</td>\n",
       "      <td>272.43</td>\n",
       "      <td>491,051,000</td>\n",
       "      <td>424,679,000</td>\n",
       "      <td>440,745,700</td>\n",
       "      <td>383,391,083</td>\n",
       "      <td>375,558,483</td>\n",
       "      <td>NaN</td>\n",
       "    </tr>\n",
       "    <tr>\n",
       "      <th>4</th>\n",
       "      <td>20180108</td>\n",
       "      <td>330.83</td>\n",
       "      <td>332.70</td>\n",
       "      <td>324.22</td>\n",
       "      <td>326.72</td>\n",
       "      <td>325.57</td>\n",
       "      <td>324.02</td>\n",
       "      <td>297.77</td>\n",
       "      <td>271.63</td>\n",
       "      <td>594,504,000</td>\n",
       "      <td>433,487,000</td>\n",
       "      <td>432,932,250</td>\n",
       "      <td>382,107,483</td>\n",
       "      <td>373,928,983</td>\n",
       "      <td>NaN</td>\n",
       "    </tr>\n",
       "  </tbody>\n",
       "</table>\n",
       "</div>"
      ],
      "text/plain": [
       "         일자      시가      고가      저가      종가       5      20      60     120  \\\n",
       "0  20180205  322.05  324.64  303.47  304.83  324.69  326.85  302.45  274.40   \n",
       "1  20180129  337.28  339.27  326.30  327.01  329.52  327.29  301.71  273.92   \n",
       "2  20180122  328.78  335.38  324.56  335.38  329.07  326.31  300.48  273.25   \n",
       "3  20180115  328.57  331.88  326.21  329.52  326.23  324.93  299.09  272.43   \n",
       "4  20180108  330.83  332.70  324.22  326.72  325.57  324.02  297.77  271.63   \n",
       "\n",
       "           거래량          5.1         20.1         60.1        120.1  \\\n",
       "0  550,481,000  536,881,600  460,138,000  395,659,417  381,767,783   \n",
       "1  537,749,000  503,449,200  455,776,900  391,471,167  380,361,142   \n",
       "2  510,623,000  442,048,400  448,082,350  387,160,500  378,120,667   \n",
       "3  491,051,000  424,679,000  440,745,700  383,391,083  375,558,483   \n",
       "4  594,504,000  433,487,000  432,932,250  382,107,483  373,928,983   \n",
       "\n",
       "   Unnamed: 14  \n",
       "0          NaN  \n",
       "1          NaN  \n",
       "2          NaN  \n",
       "3          NaN  \n",
       "4          NaN  "
      ]
     },
     "execution_count": 3,
     "metadata": {},
     "output_type": "execute_result"
    }
   ],
   "source": [
    "df.head()"
   ]
  },
  {
   "cell_type": "code",
   "execution_count": 19,
   "metadata": {},
   "outputs": [
    {
     "data": {
      "text/html": [
       "<div>\n",
       "<style scoped>\n",
       "    .dataframe tbody tr th:only-of-type {\n",
       "        vertical-align: middle;\n",
       "    }\n",
       "\n",
       "    .dataframe tbody tr th {\n",
       "        vertical-align: top;\n",
       "    }\n",
       "\n",
       "    .dataframe thead th {\n",
       "        text-align: right;\n",
       "    }\n",
       "</style>\n",
       "<table border=\"1\" class=\"dataframe\">\n",
       "  <thead>\n",
       "    <tr style=\"text-align: right;\">\n",
       "      <th></th>\n",
       "      <th>일자</th>\n",
       "      <th>시가</th>\n",
       "      <th>고가</th>\n",
       "      <th>저가</th>\n",
       "      <th>종가</th>\n",
       "      <th>5</th>\n",
       "      <th>20</th>\n",
       "      <th>60</th>\n",
       "      <th>120</th>\n",
       "      <th>거래량</th>\n",
       "      <th>5.1</th>\n",
       "      <th>20.1</th>\n",
       "      <th>60.1</th>\n",
       "      <th>120.1</th>\n",
       "      <th>Unnamed: 14</th>\n",
       "    </tr>\n",
       "  </thead>\n",
       "  <tbody>\n",
       "    <tr>\n",
       "      <th>595</th>\n",
       "      <td>20060904</td>\n",
       "      <td>176.97</td>\n",
       "      <td>177.25</td>\n",
       "      <td>174.27</td>\n",
       "      <td>175.78</td>\n",
       "      <td>173.1</td>\n",
       "      <td>NaN</td>\n",
       "      <td>NaN</td>\n",
       "      <td>NaN</td>\n",
       "      <td>423,792,000</td>\n",
       "      <td>402,564,400</td>\n",
       "      <td>NaN</td>\n",
       "      <td>NaN</td>\n",
       "      <td>NaN</td>\n",
       "      <td>NaN</td>\n",
       "    </tr>\n",
       "    <tr>\n",
       "      <th>596</th>\n",
       "      <td>20060828</td>\n",
       "      <td>172.98</td>\n",
       "      <td>176.71</td>\n",
       "      <td>172.27</td>\n",
       "      <td>175.99</td>\n",
       "      <td>NaN</td>\n",
       "      <td>NaN</td>\n",
       "      <td>NaN</td>\n",
       "      <td>NaN</td>\n",
       "      <td>457,083,000</td>\n",
       "      <td>NaN</td>\n",
       "      <td>NaN</td>\n",
       "      <td>NaN</td>\n",
       "      <td>NaN</td>\n",
       "      <td>NaN</td>\n",
       "    </tr>\n",
       "    <tr>\n",
       "      <th>597</th>\n",
       "      <td>20060821</td>\n",
       "      <td>173.46</td>\n",
       "      <td>174.13</td>\n",
       "      <td>170.23</td>\n",
       "      <td>172.92</td>\n",
       "      <td>NaN</td>\n",
       "      <td>NaN</td>\n",
       "      <td>NaN</td>\n",
       "      <td>NaN</td>\n",
       "      <td>398,562,000</td>\n",
       "      <td>NaN</td>\n",
       "      <td>NaN</td>\n",
       "      <td>NaN</td>\n",
       "      <td>NaN</td>\n",
       "      <td>NaN</td>\n",
       "    </tr>\n",
       "    <tr>\n",
       "      <th>598</th>\n",
       "      <td>20060814</td>\n",
       "      <td>168.11</td>\n",
       "      <td>173.87</td>\n",
       "      <td>167.12</td>\n",
       "      <td>173.17</td>\n",
       "      <td>NaN</td>\n",
       "      <td>NaN</td>\n",
       "      <td>NaN</td>\n",
       "      <td>NaN</td>\n",
       "      <td>352,794,000</td>\n",
       "      <td>NaN</td>\n",
       "      <td>NaN</td>\n",
       "      <td>NaN</td>\n",
       "      <td>NaN</td>\n",
       "      <td>NaN</td>\n",
       "    </tr>\n",
       "    <tr>\n",
       "      <th>599</th>\n",
       "      <td>20060807</td>\n",
       "      <td>170.21</td>\n",
       "      <td>172.08</td>\n",
       "      <td>167.57</td>\n",
       "      <td>167.65</td>\n",
       "      <td>NaN</td>\n",
       "      <td>NaN</td>\n",
       "      <td>NaN</td>\n",
       "      <td>NaN</td>\n",
       "      <td>380,591,000</td>\n",
       "      <td>NaN</td>\n",
       "      <td>NaN</td>\n",
       "      <td>NaN</td>\n",
       "      <td>NaN</td>\n",
       "      <td>NaN</td>\n",
       "    </tr>\n",
       "  </tbody>\n",
       "</table>\n",
       "</div>"
      ],
      "text/plain": [
       "           일자      시가      고가      저가      종가      5  20  60  120  \\\n",
       "595  20060904  176.97  177.25  174.27  175.78  173.1 NaN NaN  NaN   \n",
       "596  20060828  172.98  176.71  172.27  175.99    NaN NaN NaN  NaN   \n",
       "597  20060821  173.46  174.13  170.23  172.92    NaN NaN NaN  NaN   \n",
       "598  20060814  168.11  173.87  167.12  173.17    NaN NaN NaN  NaN   \n",
       "599  20060807  170.21  172.08  167.57  167.65    NaN NaN NaN  NaN   \n",
       "\n",
       "             거래량          5.1 20.1 60.1 120.1  Unnamed: 14  \n",
       "595  423,792,000  402,564,400  NaN  NaN   NaN          NaN  \n",
       "596  457,083,000          NaN  NaN  NaN   NaN          NaN  \n",
       "597  398,562,000          NaN  NaN  NaN   NaN          NaN  \n",
       "598  352,794,000          NaN  NaN  NaN   NaN          NaN  \n",
       "599  380,591,000          NaN  NaN  NaN   NaN          NaN  "
      ]
     },
     "execution_count": 19,
     "metadata": {},
     "output_type": "execute_result"
    }
   ],
   "source": [
    "df.tail()"
   ]
  },
  {
   "cell_type": "code",
   "execution_count": 5,
   "metadata": {},
   "outputs": [],
   "source": [
    "kospi200 = df['시가'].values"
   ]
  },
  {
   "cell_type": "code",
   "execution_count": 6,
   "metadata": {},
   "outputs": [
    {
     "data": {
      "text/plain": [
       "numpy.ndarray"
      ]
     },
     "execution_count": 6,
     "metadata": {},
     "output_type": "execute_result"
    }
   ],
   "source": [
    "type(kospi200)"
   ]
  },
  {
   "cell_type": "code",
   "execution_count": 7,
   "metadata": {},
   "outputs": [
    {
     "data": {
      "text/plain": [
       "array([ 322.05,  337.28,  328.78,  328.57,  330.83,  325.73,  322.14,\n",
       "        327.09,  325.13,  326.31])"
      ]
     },
     "execution_count": 7,
     "metadata": {},
     "output_type": "execute_result"
    }
   ],
   "source": [
    "kospi200[:10]"
   ]
  },
  {
   "cell_type": "code",
   "execution_count": 10,
   "metadata": {},
   "outputs": [
    {
     "data": {
      "text/plain": [
       "(600,)"
      ]
     },
     "execution_count": 10,
     "metadata": {},
     "output_type": "execute_result"
    }
   ],
   "source": [
    "kospi200.shape"
   ]
  },
  {
   "cell_type": "code",
   "execution_count": 8,
   "metadata": {},
   "outputs": [],
   "source": [
    "from sklearn.preprocessing import MinMaxScaler\n",
    "\n",
    "scaler = MinMaxScaler()"
   ]
  },
  {
   "cell_type": "code",
   "execution_count": 11,
   "metadata": {},
   "outputs": [],
   "source": [
    "kospi200_scaled = scaler.fit_transform(kospi200.reshape(-1,1))"
   ]
  },
  {
   "cell_type": "code",
   "execution_count": 13,
   "metadata": {},
   "outputs": [
    {
     "data": {
      "text/plain": [
       "array([[ 0.92278728],\n",
       "       [ 0.99358498],\n",
       "       [ 0.95407215],\n",
       "       [ 0.95309595],\n",
       "       [ 0.96360171],\n",
       "       [ 0.93989401],\n",
       "       [ 0.92320565],\n",
       "       [ 0.94621607],\n",
       "       [ 0.93710487],\n",
       "       [ 0.94259018]])"
      ]
     },
     "execution_count": 13,
     "metadata": {},
     "output_type": "execute_result"
    }
   ],
   "source": [
    "kospi200_scaled[:10]"
   ]
  },
  {
   "cell_type": "code",
   "execution_count": 15,
   "metadata": {},
   "outputs": [
    {
     "data": {
      "text/plain": [
       "(array([ 0.]), array([ 1.]))"
      ]
     },
     "execution_count": 15,
     "metadata": {},
     "output_type": "execute_result"
    }
   ],
   "source": [
    "min(kospi200_scaled), max(kospi200_scaled)"
   ]
  },
  {
   "cell_type": "code",
   "execution_count": 17,
   "metadata": {},
   "outputs": [],
   "source": [
    "import matplotlib.pyplot as plt\n",
    "\n",
    "from keras import layers\n",
    "from keras import models\n"
   ]
  },
  {
   "cell_type": "markdown",
   "metadata": {},
   "source": [
    "## 주가지수 그려보기"
   ]
  },
  {
   "cell_type": "code",
   "execution_count": 18,
   "metadata": {
    "scrolled": true
   },
   "outputs": [
    {
     "data": {
      "image/png": "[encoded data removed]",
      "text/plain": [
       "<matplotlib.figure.Figure at 0x7f575efdd320>"
      ]
     },
     "metadata": {},
     "output_type": "display_data"
    }
   ],
   "source": [
    "def plot_data(data):\n",
    "    plt.plot(data)\n",
    "    plt.show()\n",
    "    \n",
    "plot_data(kospi200_scaled)"
   ]
  },
  {
   "cell_type": "markdown",
   "metadata": {},
   "source": [
    "## 앗 거꾸로 그렸다."
   ]
  },
  {
   "cell_type": "code",
   "execution_count": 20,
   "metadata": {},
   "outputs": [
    {
     "data": {
      "image/png": "[encoded data removed]",
      "text/plain": [
       "<matplotlib.figure.Figure at 0x7f575ef74ba8>"
      ]
     },
     "metadata": {},
     "output_type": "display_data"
    }
   ],
   "source": [
    "x = kospi200_scaled[::-1]\n",
    "\n",
    "plot_data(x)"
   ]
  },
  {
   "cell_type": "code",
   "execution_count": 48,
   "metadata": {},
   "outputs": [],
   "source": [
    "class LSTMMachine:\n",
    "    def __init__(self, data, look_ahead):\n",
    "        print('x')\n",
    "        self.X, self.Y = self.generate_XY(data, look_ahead)\n",
    "        input_shape = self.X.shape[1:]\n",
    "        self.model = self.lstm_model(input_shape)\n",
    "        \n",
    "    \n",
    "    def run(self, epochs=500):\n",
    "        \n",
    "        X, Y = self.X, self.Y\n",
    "        \n",
    "        history = self.model.fit(X, Y, epochs=epochs, verbose=0)\n",
    "        predicted_Y = self.model.predict(X)\n",
    "        \n",
    "        plt.plot(Y, label='Original')\n",
    "        plt.plot(predicted_Y, label='Prediction')\n",
    "        plt.legend(loc=0)\n",
    "        plt.show()\n",
    "        \n",
    "    \n",
    "    def generate_XY(self, data, look_ahead):\n",
    "        xs, ys = [], []\n",
    "        for i in range(len(data)-1-look_ahead):\n",
    "            xs.append(data[i:i+look_ahead])\n",
    "            ys.append(data[i+look_ahead])\n",
    "        X = np.array(xs)\n",
    "        X = X.reshape(X.shape[0], X.shape[1], 1)\n",
    "        Y = np.array(ys)\n",
    "        return X, Y     \n",
    "    \n",
    "    def lstm_model(self, input_shape):\n",
    "        m_x = layers.Input(shape=input_shape)\n",
    "        m_h = layers.LSTM(20)(m_x)\n",
    "        m_y = layers.Dense(1)(m_h)\n",
    "        model = models.Model(m_x, m_y)\n",
    "        model.compile(loss='mean_squared_error', optimizer='adam')\n",
    "        return model\n",
    "    \n",
    "    "
   ]
  },
  {
   "cell_type": "code",
   "execution_count": 49,
   "metadata": {},
   "outputs": [],
   "source": [
    "def main():\n",
    "    machine = LSTMMachine(x, 10)\n",
    "    machine.run(epochs=300)"
   ]
  },
  {
   "cell_type": "code",
   "execution_count": 50,
   "metadata": {},
   "outputs": [
    {
     "name": "stdout",
     "output_type": "stream",
     "text": [
      "x\n"
     ]
    },
    {
     "data": {
      "image/png": "[encoded data removed]",
      "text/plain": [
       "<matplotlib.figure.Figure at 0x7f5759c148d0>"
      ]
     },
     "metadata": {},
     "output_type": "display_data"
    }
   ],
   "source": [
    "main()"
   ]
  },
  {
   "cell_type": "code",
   "execution_count": null,
   "metadata": {},
   "outputs": [],
   "source": []
  }
 ],
 "metadata": {
  "kernelspec": {
   "display_name": "Python 3",
   "language": "python",
   "name": "python3"
  },
  "language_info": {
   "codemirror_mode": {
    "name": "ipython",
    "version": 3
   },
   "file_extension": ".py",
   "mimetype": "text/x-python",
   "name": "python",
   "nbconvert_exporter": "python",
   "pygments_lexer": "ipython3",
   "version": "3.6.3"
  }
 },
 "nbformat": 4,
 "nbformat_minor": 2
}
