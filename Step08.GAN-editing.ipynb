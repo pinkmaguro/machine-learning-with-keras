{
 "cells": [
  {
   "cell_type": "code",
   "execution_count": 5,
   "metadata": {},
   "outputs": [],
   "source": [
    "import numpy as np\n",
    "import matplotlib.pyplot as plt\n",
    "\n",
    "from keras import models\n",
    "from keras.layers import Dense, Conv1D, Reshape, Flatten, Lambda\n",
    "from keras import backend as K"
   ]
  },
  {
   "cell_type": "markdown",
   "metadata": {},
   "source": [
    "위에 임포트한 모듈 중에서 새로 보이는 것이 Lambda 입니다.\n",
    "\n",
    "아래는 책 3분 딥러닝에 나오는 GAN 모델에 대한 클래스의 코드인데, 바로 이해하기 어렵습니다.\n",
    "\n",
    "처음 보는 함수나 기능들은 실제로 타이핑을 해보면서 이해해보겠습니다."
   ]
  },
  {
   "cell_type": "code",
   "execution_count": 6,
   "metadata": {},
   "outputs": [],
   "source": [
    "class Data:\n",
    "    def __init__(self, mu, sigma, ni_D):\n",
    "        self.real_sample = lambda n_batch: np.random.normal(mu, sigma, n_batch, ni_D)\n",
    "        self.in_sample = lambda n_batch: np.random.rand(n_batch, ni_D)\n",
    "        "
   ]
  },
  {
   "cell_type": "markdown",
   "metadata": {},
   "source": [
    "위의 Data 클래스는 평균, 표준편차와 어떤 차원의 길이(ni_D)를 저장하고 n_batch 라는 다른 차원의 길이를 입력받으면 (n_batch, ni_D) 크기의 정규분포를 만드는 함수와,  같은 크기의 0에서 1사이의 균일 분포를 만드는 함수를 저장하고 있습니다."
   ]
  },
  {
   "cell_type": "code",
   "execution_count": 4,
   "metadata": {},
   "outputs": [],
   "source": [
    "# GAN 모델링\n",
    "def add_decorate(x):\n",
    "    m = K.mean(x, axis=-1, keepdims=True)\n",
    "    d = K.square(x - m)\n",
    "    return K.concatenate([x, d], axis=-1)\n",
    "\n",
    "def add_decorate_shape(input_shape):\n",
    "    shape = list(input_shape)\n",
    "    assert len(shape) == 2\n",
    "    shape[1] *= 2\n",
    "    return tuple(shape)\n",
    "    \n",
    "class GAN:\n",
    "    def __init__(self, ni_D, nh_D, nh_G):\n",
    "        self.ni_D = ni_D\n",
    "        self.nh_D = nh_D\n",
    "        self.nh_G = nh_G\n",
    "        \n",
    "        self.D = self.gen_D()\n",
    "        self.G = self.gen_G()\n",
    "        self.GD = self.make_GD()\n",
    "        \n",
    "    def gen_D(self):\n",
    "        ni_D = self.ni_D\n",
    "        nh_D = self.nh_D\n",
    "        D = models.Sequential()\n",
    "        D.add(Lambda(add_decorate, output_shape=add_decorate_shape, input_shape=(ni_D,)))\n",
    "        D.add(Dense(nh_D, activation='relu'))\n",
    "        D.add(Dense(nh_D, activation='relu'))\n",
    "        D.add(Dense(1, activation='sigmoid'))\n",
    "        \n",
    "        D.compile(loss='binary_crossentropy', optimizer='adam', metrics=['accuracy'])\n",
    "        return D\n",
    "    \n",
    "    def gen_G(self):\n",
    "        ni_D = self.ni_D\n",
    "        nh_D = self.nh_D\n",
    "        \n",
    "        G = models.Sequential()\n",
    "        G.add(Reshape((ni_D, 1), input_shape=(ni_D,)))\n",
    "        G.add(Conv1D(nh_G, 1, activation='relu'))\n",
    "        G.add(Conv1D(nh_G, 1, activation='sigmoid'))\n",
    "        G.add(Conv1D(1, 1))\n",
    "        G.add(Flatten())\n",
    "        \n",
    "        G.compile(loss='binary_crossentropy', optimizer='adam', metrics=['accuracy'])\n",
    "        return G\n",
    "    \n",
    "    def make_GD(self):\n",
    "        G, D = self.G, self.D\n",
    "        GD = models.Sequential()\n",
    "        GD.add(G)\n",
    "        GD.add(D)\n",
    "        D.trainable = False\n",
    "        GD.G.compile(loss='binary_crossentropy', optimizer='adam', metrics=['accuracy'])\n",
    "        D.trainable = True\n",
    "        return GD\n",
    "    \n",
    "    def D_train_on_batch(self, Real, Gen):\n",
    "        D = self.D\n",
    "        X = np.concatenate([Real, Gen], axis=0)\n",
    "        y = np.array([1]*Real.shape[0] + [0]*Gen.shape[0])\n",
    "        D.train_on_batch(X, y)\n",
    "        \n",
    "    def GD_train_on_batch(self, Z):\n",
    "        GD = self.GD\n",
    "        y = np.array([1]*Z.shape[0])\n",
    "        GD.train_on_batch(Z, y)\n",
    "        \n",
    "        "
   ]
  },
  {
   "cell_type": "code",
   "execution_count": null,
   "metadata": {},
   "outputs": [],
   "source": []
  }
 ],
 "metadata": {
  "kernelspec": {
   "display_name": "Python 3",
   "language": "python",
   "name": "python3"
  },
  "language_info": {
   "codemirror_mode": {
    "name": "ipython",
    "version": 3
   },
   "file_extension": ".py",
   "mimetype": "text/x-python",
   "name": "python",
   "nbconvert_exporter": "python",
   "pygments_lexer": "ipython3",
   "version": "3.6.4"
  }
 },
 "nbformat": 4,
 "nbformat_minor": 2
}
